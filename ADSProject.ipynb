{
 "cells": [
  {
   "cell_type": "markdown",
   "metadata": {},
   "source": [
    "# Gender Prediction using Survey Dataset"
   ]
  },
  {
   "cell_type": "markdown",
   "metadata": {
    "collapsed": true
   },
   "source": [
    "#### Survey conducted in 2013 so as to understand the preferences of young individuals of Slovakian nationality. The survey asked its participants a range of questions such as music and movie preference, phobia, spending habit etc.\n",
    "\n",
    "#### Based on the available data gender based analysis and predictions can be made. The data recorded in the survey can be used to get interesting insights with repsect to movie preferences, personaliy traits of teenage males and females may be drawn. "
   ]
  },
  {
   "cell_type": "code",
   "execution_count": 200,
   "metadata": {
    "collapsed": true
   },
   "outputs": [],
   "source": [
    "import matplotlib.pyplot as plt\n",
    "import numpy as np\n",
    "import pandas as pd\n",
    "from scipy import stats\n",
    "import seaborn as sns\n",
    "import statsmodels.api as sm\n",
    "import warnings\n",
    "from IPython.display import display\n",
    "\n",
    "%matplotlib inline"
   ]
  },
  {
   "cell_type": "code",
   "execution_count": 201,
   "metadata": {
    "collapsed": true
   },
   "outputs": [],
   "source": [
    "warnings.filterwarnings('ignore')\n",
    "\n",
    "pd.set_option(\"display.max_columns\", 200)"
   ]
  },
  {
   "cell_type": "code",
   "execution_count": 202,
   "metadata": {
    "collapsed": true
   },
   "outputs": [],
   "source": [
    "raw_data=pd.read_csv(\"responses.csv\")       ## Reading Dataset"
   ]
  },
  {
   "cell_type": "code",
   "execution_count": 203,
   "metadata": {},
   "outputs": [
    {
     "name": "stdout",
     "output_type": "stream",
     "text": [
      "<class 'pandas.core.frame.DataFrame'>\n",
      "RangeIndex: 1010 entries, 0 to 1009\n",
      "Columns: 150 entries, Music to House - block of flats\n",
      "dtypes: float64(134), int64(5), object(11)\n",
      "memory usage: 1.2+ MB\n"
     ]
    }
   ],
   "source": [
    "raw_data.info()      "
   ]
  },
  {
   "cell_type": "code",
   "execution_count": 204,
   "metadata": {
    "scrolled": true
   },
   "outputs": [
    {
     "data": {
      "text/html": [
       "<div>\n",
       "<style>\n",
       "    .dataframe thead tr:only-child th {\n",
       "        text-align: right;\n",
       "    }\n",
       "\n",
       "    .dataframe thead th {\n",
       "        text-align: left;\n",
       "    }\n",
       "\n",
       "    .dataframe tbody tr th {\n",
       "        vertical-align: top;\n",
       "    }\n",
       "</style>\n",
       "<table border=\"1\" class=\"dataframe\">\n",
       "  <thead>\n",
       "    <tr style=\"text-align: right;\">\n",
       "      <th></th>\n",
       "      <th>Music</th>\n",
       "      <th>Slow songs or fast songs</th>\n",
       "      <th>Dance</th>\n",
       "      <th>Folk</th>\n",
       "      <th>Country</th>\n",
       "      <th>Classical music</th>\n",
       "      <th>Musical</th>\n",
       "      <th>Pop</th>\n",
       "      <th>Rock</th>\n",
       "      <th>Metal or Hardrock</th>\n",
       "      <th>Punk</th>\n",
       "      <th>Hiphop, Rap</th>\n",
       "      <th>Reggae, Ska</th>\n",
       "      <th>Swing, Jazz</th>\n",
       "      <th>Rock n roll</th>\n",
       "      <th>Alternative</th>\n",
       "      <th>Latino</th>\n",
       "      <th>Techno, Trance</th>\n",
       "      <th>Opera</th>\n",
       "      <th>Movies</th>\n",
       "      <th>Horror</th>\n",
       "      <th>Thriller</th>\n",
       "      <th>Comedy</th>\n",
       "      <th>Romantic</th>\n",
       "      <th>Sci-fi</th>\n",
       "      <th>War</th>\n",
       "      <th>Fantasy/Fairy tales</th>\n",
       "      <th>Animated</th>\n",
       "      <th>Documentary</th>\n",
       "      <th>Western</th>\n",
       "      <th>Action</th>\n",
       "      <th>History</th>\n",
       "      <th>Psychology</th>\n",
       "      <th>Politics</th>\n",
       "      <th>Mathematics</th>\n",
       "      <th>Physics</th>\n",
       "      <th>Internet</th>\n",
       "      <th>PC</th>\n",
       "      <th>Economy Management</th>\n",
       "      <th>Biology</th>\n",
       "      <th>Chemistry</th>\n",
       "      <th>Reading</th>\n",
       "      <th>Geography</th>\n",
       "      <th>Foreign languages</th>\n",
       "      <th>Medicine</th>\n",
       "      <th>Law</th>\n",
       "      <th>Cars</th>\n",
       "      <th>Art exhibitions</th>\n",
       "      <th>Religion</th>\n",
       "      <th>Countryside, outdoors</th>\n",
       "      <th>Dancing</th>\n",
       "      <th>Musical instruments</th>\n",
       "      <th>Writing</th>\n",
       "      <th>Passive sport</th>\n",
       "      <th>Active sport</th>\n",
       "      <th>Gardening</th>\n",
       "      <th>Celebrities</th>\n",
       "      <th>Shopping</th>\n",
       "      <th>Science and technology</th>\n",
       "      <th>Theatre</th>\n",
       "      <th>Fun with friends</th>\n",
       "      <th>Adrenaline sports</th>\n",
       "      <th>Pets</th>\n",
       "      <th>Flying</th>\n",
       "      <th>Storm</th>\n",
       "      <th>Darkness</th>\n",
       "      <th>Heights</th>\n",
       "      <th>Spiders</th>\n",
       "      <th>Snakes</th>\n",
       "      <th>Rats</th>\n",
       "      <th>Ageing</th>\n",
       "      <th>Dangerous dogs</th>\n",
       "      <th>Fear of public speaking</th>\n",
       "      <th>Healthy eating</th>\n",
       "      <th>Daily events</th>\n",
       "      <th>Prioritising workload</th>\n",
       "      <th>Writing notes</th>\n",
       "      <th>Workaholism</th>\n",
       "      <th>Thinking ahead</th>\n",
       "      <th>Final judgement</th>\n",
       "      <th>Reliability</th>\n",
       "      <th>Keeping promises</th>\n",
       "      <th>Loss of interest</th>\n",
       "      <th>Friends versus money</th>\n",
       "      <th>Funniness</th>\n",
       "      <th>Fake</th>\n",
       "      <th>Criminal damage</th>\n",
       "      <th>Decision making</th>\n",
       "      <th>Elections</th>\n",
       "      <th>Self-criticism</th>\n",
       "      <th>Judgment calls</th>\n",
       "      <th>Hypochondria</th>\n",
       "      <th>Empathy</th>\n",
       "      <th>Eating to survive</th>\n",
       "      <th>Giving</th>\n",
       "      <th>Compassion to animals</th>\n",
       "      <th>Borrowed stuff</th>\n",
       "      <th>Loneliness</th>\n",
       "      <th>Cheating in school</th>\n",
       "      <th>Health</th>\n",
       "      <th>Changing the past</th>\n",
       "      <th>God</th>\n",
       "      <th>Dreams</th>\n",
       "      <th>Charity</th>\n",
       "      <th>Number of friends</th>\n",
       "      <th>Waiting</th>\n",
       "      <th>New environment</th>\n",
       "      <th>Mood swings</th>\n",
       "      <th>Appearence and gestures</th>\n",
       "      <th>Socializing</th>\n",
       "      <th>Achievements</th>\n",
       "      <th>Responding to a serious letter</th>\n",
       "      <th>Children</th>\n",
       "      <th>Assertiveness</th>\n",
       "      <th>Getting angry</th>\n",
       "      <th>Knowing the right people</th>\n",
       "      <th>Public speaking</th>\n",
       "      <th>Unpopularity</th>\n",
       "      <th>Life struggles</th>\n",
       "      <th>Happiness in life</th>\n",
       "      <th>Energy levels</th>\n",
       "      <th>Small - big dogs</th>\n",
       "      <th>Personality</th>\n",
       "      <th>Finding lost valuables</th>\n",
       "      <th>Getting up</th>\n",
       "      <th>Interests or hobbies</th>\n",
       "      <th>Parents' advice</th>\n",
       "      <th>Questionnaires or polls</th>\n",
       "      <th>Finances</th>\n",
       "      <th>Shopping centres</th>\n",
       "      <th>Branded clothing</th>\n",
       "      <th>Entertainment spending</th>\n",
       "      <th>Spending on looks</th>\n",
       "      <th>Spending on gadgets</th>\n",
       "      <th>Spending on healthy eating</th>\n",
       "      <th>Age</th>\n",
       "      <th>Height</th>\n",
       "      <th>Weight</th>\n",
       "      <th>Number of siblings</th>\n",
       "    </tr>\n",
       "  </thead>\n",
       "  <tbody>\n",
       "    <tr>\n",
       "      <th>count</th>\n",
       "      <td>1007.000000</td>\n",
       "      <td>1008.000000</td>\n",
       "      <td>1006.000000</td>\n",
       "      <td>1005.000000</td>\n",
       "      <td>1005.000000</td>\n",
       "      <td>1003.000000</td>\n",
       "      <td>1008.000000</td>\n",
       "      <td>1007.000000</td>\n",
       "      <td>1004.000000</td>\n",
       "      <td>1007.000000</td>\n",
       "      <td>1002.000000</td>\n",
       "      <td>1006.000000</td>\n",
       "      <td>1003.000000</td>\n",
       "      <td>1004.000000</td>\n",
       "      <td>1003.000000</td>\n",
       "      <td>1003.000000</td>\n",
       "      <td>1002.000000</td>\n",
       "      <td>1003.000000</td>\n",
       "      <td>1009.000000</td>\n",
       "      <td>1004.000000</td>\n",
       "      <td>1008.000000</td>\n",
       "      <td>1009.000000</td>\n",
       "      <td>1007.000000</td>\n",
       "      <td>1007.000000</td>\n",
       "      <td>1008.000000</td>\n",
       "      <td>1008.000000</td>\n",
       "      <td>1007.000000</td>\n",
       "      <td>1007.000000</td>\n",
       "      <td>1002.000000</td>\n",
       "      <td>1006.000000</td>\n",
       "      <td>1008.000000</td>\n",
       "      <td>1008.000000</td>\n",
       "      <td>1005.000000</td>\n",
       "      <td>1009.000000</td>\n",
       "      <td>1007.000000</td>\n",
       "      <td>1007.000000</td>\n",
       "      <td>1006.000000</td>\n",
       "      <td>1004.000000</td>\n",
       "      <td>1005.000000</td>\n",
       "      <td>1004.000000</td>\n",
       "      <td>1000.000000</td>\n",
       "      <td>1004.000000</td>\n",
       "      <td>1001.000000</td>\n",
       "      <td>1005.000000</td>\n",
       "      <td>1005.000000</td>\n",
       "      <td>1009.000000</td>\n",
       "      <td>1006.000000</td>\n",
       "      <td>1004.000000</td>\n",
       "      <td>1007.000000</td>\n",
       "      <td>1003.000000</td>\n",
       "      <td>1007.000000</td>\n",
       "      <td>1009.000000</td>\n",
       "      <td>1004.000000</td>\n",
       "      <td>995.000000</td>\n",
       "      <td>1006.000000</td>\n",
       "      <td>1003.000000</td>\n",
       "      <td>1008.000000</td>\n",
       "      <td>1008.000000</td>\n",
       "      <td>1004.000000</td>\n",
       "      <td>1002.000000</td>\n",
       "      <td>1006.000000</td>\n",
       "      <td>1007.000000</td>\n",
       "      <td>1006.00000</td>\n",
       "      <td>1007.000000</td>\n",
       "      <td>1009.000000</td>\n",
       "      <td>1008.000000</td>\n",
       "      <td>1007.000000</td>\n",
       "      <td>1005.000000</td>\n",
       "      <td>1010.000000</td>\n",
       "      <td>1007.000000</td>\n",
       "      <td>1009.000000</td>\n",
       "      <td>1009.000000</td>\n",
       "      <td>1009.000000</td>\n",
       "      <td>1007.000000</td>\n",
       "      <td>1003.000000</td>\n",
       "      <td>1005.000000</td>\n",
       "      <td>1007.000000</td>\n",
       "      <td>1005.000000</td>\n",
       "      <td>1007.000000</td>\n",
       "      <td>1003.000000</td>\n",
       "      <td>1006.000000</td>\n",
       "      <td>1009.000000</td>\n",
       "      <td>1006.000000</td>\n",
       "      <td>1004.000000</td>\n",
       "      <td>1006.000000</td>\n",
       "      <td>1009.000000</td>\n",
       "      <td>1003.000000</td>\n",
       "      <td>1006.000000</td>\n",
       "      <td>1007.000000</td>\n",
       "      <td>1005.000000</td>\n",
       "      <td>1006.000000</td>\n",
       "      <td>1006.000000</td>\n",
       "      <td>1005.000000</td>\n",
       "      <td>1010.000000</td>\n",
       "      <td>1004.000000</td>\n",
       "      <td>1003.000000</td>\n",
       "      <td>1008.000000</td>\n",
       "      <td>1009.000000</td>\n",
       "      <td>1006.000000</td>\n",
       "      <td>1009.000000</td>\n",
       "      <td>1008.000000</td>\n",
       "      <td>1008.000000</td>\n",
       "      <td>1010.000000</td>\n",
       "      <td>1007.000000</td>\n",
       "      <td>1010.000000</td>\n",
       "      <td>1007.000000</td>\n",
       "      <td>1008.000000</td>\n",
       "      <td>1006.000000</td>\n",
       "      <td>1007.000000</td>\n",
       "      <td>1005.000000</td>\n",
       "      <td>1008.000000</td>\n",
       "      <td>1004.000000</td>\n",
       "      <td>1006.000000</td>\n",
       "      <td>1008.000000</td>\n",
       "      <td>1006.000000</td>\n",
       "      <td>1008.000000</td>\n",
       "      <td>1008.000000</td>\n",
       "      <td>1007.000000</td>\n",
       "      <td>1007.000000</td>\n",
       "      <td>1006.000000</td>\n",
       "      <td>1005.000000</td>\n",
       "      <td>1006.000000</td>\n",
       "      <td>1006.000000</td>\n",
       "      <td>1006.000000</td>\n",
       "      <td>1005.000000</td>\n",
       "      <td>1007.000000</td>\n",
       "      <td>1008.000000</td>\n",
       "      <td>1006.000000</td>\n",
       "      <td>1007.000000</td>\n",
       "      <td>1008.000000</td>\n",
       "      <td>1008.000000</td>\n",
       "      <td>1007.000000</td>\n",
       "      <td>1007.000000</td>\n",
       "      <td>1010.000000</td>\n",
       "      <td>1008.00000</td>\n",
       "      <td>1003.000000</td>\n",
       "      <td>990.000000</td>\n",
       "      <td>990.000000</td>\n",
       "      <td>1004.000000</td>\n",
       "    </tr>\n",
       "    <tr>\n",
       "      <th>mean</th>\n",
       "      <td>4.731877</td>\n",
       "      <td>3.328373</td>\n",
       "      <td>3.113320</td>\n",
       "      <td>2.288557</td>\n",
       "      <td>2.123383</td>\n",
       "      <td>2.956132</td>\n",
       "      <td>2.761905</td>\n",
       "      <td>3.471698</td>\n",
       "      <td>3.761952</td>\n",
       "      <td>2.361470</td>\n",
       "      <td>2.456088</td>\n",
       "      <td>2.910537</td>\n",
       "      <td>2.769691</td>\n",
       "      <td>2.759960</td>\n",
       "      <td>3.141575</td>\n",
       "      <td>2.828514</td>\n",
       "      <td>2.842315</td>\n",
       "      <td>2.338983</td>\n",
       "      <td>2.139742</td>\n",
       "      <td>4.613546</td>\n",
       "      <td>2.793651</td>\n",
       "      <td>3.383548</td>\n",
       "      <td>4.494538</td>\n",
       "      <td>3.489573</td>\n",
       "      <td>3.113095</td>\n",
       "      <td>3.155754</td>\n",
       "      <td>3.749752</td>\n",
       "      <td>3.788481</td>\n",
       "      <td>3.643713</td>\n",
       "      <td>2.126243</td>\n",
       "      <td>3.536706</td>\n",
       "      <td>3.207341</td>\n",
       "      <td>3.138308</td>\n",
       "      <td>2.595639</td>\n",
       "      <td>2.334657</td>\n",
       "      <td>2.064548</td>\n",
       "      <td>4.175944</td>\n",
       "      <td>3.136454</td>\n",
       "      <td>2.643781</td>\n",
       "      <td>2.665339</td>\n",
       "      <td>2.165000</td>\n",
       "      <td>3.159363</td>\n",
       "      <td>3.082917</td>\n",
       "      <td>3.778109</td>\n",
       "      <td>2.516418</td>\n",
       "      <td>2.256690</td>\n",
       "      <td>2.686879</td>\n",
       "      <td>2.589641</td>\n",
       "      <td>2.273088</td>\n",
       "      <td>3.686939</td>\n",
       "      <td>2.461768</td>\n",
       "      <td>2.324083</td>\n",
       "      <td>1.901394</td>\n",
       "      <td>3.387940</td>\n",
       "      <td>3.291252</td>\n",
       "      <td>1.907278</td>\n",
       "      <td>2.362103</td>\n",
       "      <td>3.276786</td>\n",
       "      <td>3.234064</td>\n",
       "      <td>3.024950</td>\n",
       "      <td>4.557654</td>\n",
       "      <td>2.948361</td>\n",
       "      <td>3.33499</td>\n",
       "      <td>2.061569</td>\n",
       "      <td>1.973241</td>\n",
       "      <td>2.250992</td>\n",
       "      <td>2.615690</td>\n",
       "      <td>2.825871</td>\n",
       "      <td>3.027723</td>\n",
       "      <td>2.409136</td>\n",
       "      <td>2.580773</td>\n",
       "      <td>3.042616</td>\n",
       "      <td>2.803766</td>\n",
       "      <td>3.031778</td>\n",
       "      <td>3.074776</td>\n",
       "      <td>2.645771</td>\n",
       "      <td>3.083416</td>\n",
       "      <td>2.996020</td>\n",
       "      <td>3.414101</td>\n",
       "      <td>2.649053</td>\n",
       "      <td>3.858847</td>\n",
       "      <td>3.987116</td>\n",
       "      <td>2.708748</td>\n",
       "      <td>3.778884</td>\n",
       "      <td>3.293241</td>\n",
       "      <td>2.130823</td>\n",
       "      <td>2.604187</td>\n",
       "      <td>3.197813</td>\n",
       "      <td>3.415094</td>\n",
       "      <td>3.579104</td>\n",
       "      <td>3.987078</td>\n",
       "      <td>1.912525</td>\n",
       "      <td>3.858706</td>\n",
       "      <td>2.228713</td>\n",
       "      <td>2.976096</td>\n",
       "      <td>3.971087</td>\n",
       "      <td>4.017857</td>\n",
       "      <td>2.887017</td>\n",
       "      <td>3.744533</td>\n",
       "      <td>3.250743</td>\n",
       "      <td>2.952381</td>\n",
       "      <td>3.302579</td>\n",
       "      <td>3.297030</td>\n",
       "      <td>2.104270</td>\n",
       "      <td>3.343564</td>\n",
       "      <td>2.672294</td>\n",
       "      <td>3.475198</td>\n",
       "      <td>3.258449</td>\n",
       "      <td>3.597815</td>\n",
       "      <td>3.158209</td>\n",
       "      <td>2.963294</td>\n",
       "      <td>3.070717</td>\n",
       "      <td>3.621272</td>\n",
       "      <td>3.518849</td>\n",
       "      <td>3.014911</td>\n",
       "      <td>3.486111</td>\n",
       "      <td>3.521825</td>\n",
       "      <td>3.461768</td>\n",
       "      <td>3.031778</td>\n",
       "      <td>3.705765</td>\n",
       "      <td>3.633831</td>\n",
       "      <td>2.973161</td>\n",
       "      <td>3.292247</td>\n",
       "      <td>2.871769</td>\n",
       "      <td>3.592040</td>\n",
       "      <td>3.551142</td>\n",
       "      <td>3.265873</td>\n",
       "      <td>2.748509</td>\n",
       "      <td>3.023833</td>\n",
       "      <td>3.234127</td>\n",
       "      <td>3.050595</td>\n",
       "      <td>3.201589</td>\n",
       "      <td>3.106256</td>\n",
       "      <td>2.870297</td>\n",
       "      <td>3.55754</td>\n",
       "      <td>20.433699</td>\n",
       "      <td>173.514141</td>\n",
       "      <td>66.405051</td>\n",
       "      <td>1.297809</td>\n",
       "    </tr>\n",
       "    <tr>\n",
       "      <th>std</th>\n",
       "      <td>0.664049</td>\n",
       "      <td>0.833931</td>\n",
       "      <td>1.170568</td>\n",
       "      <td>1.138916</td>\n",
       "      <td>1.076136</td>\n",
       "      <td>1.252570</td>\n",
       "      <td>1.260845</td>\n",
       "      <td>1.161400</td>\n",
       "      <td>1.184861</td>\n",
       "      <td>1.372995</td>\n",
       "      <td>1.301105</td>\n",
       "      <td>1.375677</td>\n",
       "      <td>1.214434</td>\n",
       "      <td>1.257936</td>\n",
       "      <td>1.237269</td>\n",
       "      <td>1.347173</td>\n",
       "      <td>1.327902</td>\n",
       "      <td>1.324099</td>\n",
       "      <td>1.184094</td>\n",
       "      <td>0.694700</td>\n",
       "      <td>1.411078</td>\n",
       "      <td>1.197951</td>\n",
       "      <td>0.779789</td>\n",
       "      <td>1.209489</td>\n",
       "      <td>1.311892</td>\n",
       "      <td>1.348266</td>\n",
       "      <td>1.181761</td>\n",
       "      <td>1.219436</td>\n",
       "      <td>1.133367</td>\n",
       "      <td>1.138633</td>\n",
       "      <td>1.236101</td>\n",
       "      <td>1.263523</td>\n",
       "      <td>1.258349</td>\n",
       "      <td>1.294456</td>\n",
       "      <td>1.352496</td>\n",
       "      <td>1.227098</td>\n",
       "      <td>0.920663</td>\n",
       "      <td>1.321766</td>\n",
       "      <td>1.347298</td>\n",
       "      <td>1.384127</td>\n",
       "      <td>1.378287</td>\n",
       "      <td>1.495924</td>\n",
       "      <td>1.282232</td>\n",
       "      <td>1.141188</td>\n",
       "      <td>1.380347</td>\n",
       "      <td>1.242644</td>\n",
       "      <td>1.440829</td>\n",
       "      <td>1.322002</td>\n",
       "      <td>1.319641</td>\n",
       "      <td>1.196176</td>\n",
       "      <td>1.450399</td>\n",
       "      <td>1.512850</td>\n",
       "      <td>1.287736</td>\n",
       "      <td>1.405027</td>\n",
       "      <td>1.504111</td>\n",
       "      <td>1.175421</td>\n",
       "      <td>1.270251</td>\n",
       "      <td>1.286156</td>\n",
       "      <td>1.282599</td>\n",
       "      <td>1.325375</td>\n",
       "      <td>0.737183</td>\n",
       "      <td>1.420985</td>\n",
       "      <td>1.54537</td>\n",
       "      <td>1.211354</td>\n",
       "      <td>1.164231</td>\n",
       "      <td>1.254782</td>\n",
       "      <td>1.295455</td>\n",
       "      <td>1.543695</td>\n",
       "      <td>1.500982</td>\n",
       "      <td>1.400595</td>\n",
       "      <td>1.386466</td>\n",
       "      <td>1.366829</td>\n",
       "      <td>1.214637</td>\n",
       "      <td>0.936865</td>\n",
       "      <td>1.118432</td>\n",
       "      <td>1.220629</td>\n",
       "      <td>1.408224</td>\n",
       "      <td>1.277285</td>\n",
       "      <td>1.136910</td>\n",
       "      <td>1.379370</td>\n",
       "      <td>0.933594</td>\n",
       "      <td>0.899092</td>\n",
       "      <td>1.353699</td>\n",
       "      <td>1.124774</td>\n",
       "      <td>1.128771</td>\n",
       "      <td>1.046883</td>\n",
       "      <td>1.504439</td>\n",
       "      <td>1.201009</td>\n",
       "      <td>1.574679</td>\n",
       "      <td>1.193008</td>\n",
       "      <td>0.971654</td>\n",
       "      <td>1.157413</td>\n",
       "      <td>1.131730</td>\n",
       "      <td>1.214452</td>\n",
       "      <td>1.309306</td>\n",
       "      <td>1.189677</td>\n",
       "      <td>1.052579</td>\n",
       "      <td>1.131757</td>\n",
       "      <td>1.253590</td>\n",
       "      <td>1.075319</td>\n",
       "      <td>1.278387</td>\n",
       "      <td>1.483010</td>\n",
       "      <td>0.683148</td>\n",
       "      <td>1.031344</td>\n",
       "      <td>1.055348</td>\n",
       "      <td>1.002907</td>\n",
       "      <td>1.152425</td>\n",
       "      <td>1.044675</td>\n",
       "      <td>0.943806</td>\n",
       "      <td>1.093190</td>\n",
       "      <td>0.935689</td>\n",
       "      <td>1.172117</td>\n",
       "      <td>1.120903</td>\n",
       "      <td>1.103233</td>\n",
       "      <td>1.173834</td>\n",
       "      <td>1.092452</td>\n",
       "      <td>1.268173</td>\n",
       "      <td>1.118380</td>\n",
       "      <td>1.374644</td>\n",
       "      <td>0.824323</td>\n",
       "      <td>1.001617</td>\n",
       "      <td>1.222621</td>\n",
       "      <td>0.643436</td>\n",
       "      <td>1.243674</td>\n",
       "      <td>1.309913</td>\n",
       "      <td>1.170850</td>\n",
       "      <td>0.865736</td>\n",
       "      <td>1.101502</td>\n",
       "      <td>1.144365</td>\n",
       "      <td>1.323062</td>\n",
       "      <td>1.306321</td>\n",
       "      <td>1.188947</td>\n",
       "      <td>1.205368</td>\n",
       "      <td>1.284970</td>\n",
       "      <td>1.09375</td>\n",
       "      <td>2.828840</td>\n",
       "      <td>10.024505</td>\n",
       "      <td>13.839561</td>\n",
       "      <td>1.013348</td>\n",
       "    </tr>\n",
       "    <tr>\n",
       "      <th>min</th>\n",
       "      <td>1.000000</td>\n",
       "      <td>1.000000</td>\n",
       "      <td>1.000000</td>\n",
       "      <td>1.000000</td>\n",
       "      <td>1.000000</td>\n",
       "      <td>1.000000</td>\n",
       "      <td>1.000000</td>\n",
       "      <td>1.000000</td>\n",
       "      <td>1.000000</td>\n",
       "      <td>1.000000</td>\n",
       "      <td>1.000000</td>\n",
       "      <td>1.000000</td>\n",
       "      <td>1.000000</td>\n",
       "      <td>1.000000</td>\n",
       "      <td>1.000000</td>\n",
       "      <td>1.000000</td>\n",
       "      <td>1.000000</td>\n",
       "      <td>1.000000</td>\n",
       "      <td>1.000000</td>\n",
       "      <td>1.000000</td>\n",
       "      <td>1.000000</td>\n",
       "      <td>1.000000</td>\n",
       "      <td>1.000000</td>\n",
       "      <td>1.000000</td>\n",
       "      <td>1.000000</td>\n",
       "      <td>1.000000</td>\n",
       "      <td>1.000000</td>\n",
       "      <td>1.000000</td>\n",
       "      <td>1.000000</td>\n",
       "      <td>1.000000</td>\n",
       "      <td>1.000000</td>\n",
       "      <td>1.000000</td>\n",
       "      <td>1.000000</td>\n",
       "      <td>1.000000</td>\n",
       "      <td>1.000000</td>\n",
       "      <td>1.000000</td>\n",
       "      <td>1.000000</td>\n",
       "      <td>1.000000</td>\n",
       "      <td>1.000000</td>\n",
       "      <td>1.000000</td>\n",
       "      <td>1.000000</td>\n",
       "      <td>1.000000</td>\n",
       "      <td>1.000000</td>\n",
       "      <td>1.000000</td>\n",
       "      <td>1.000000</td>\n",
       "      <td>1.000000</td>\n",
       "      <td>1.000000</td>\n",
       "      <td>1.000000</td>\n",
       "      <td>1.000000</td>\n",
       "      <td>1.000000</td>\n",
       "      <td>1.000000</td>\n",
       "      <td>1.000000</td>\n",
       "      <td>1.000000</td>\n",
       "      <td>1.000000</td>\n",
       "      <td>1.000000</td>\n",
       "      <td>1.000000</td>\n",
       "      <td>1.000000</td>\n",
       "      <td>1.000000</td>\n",
       "      <td>1.000000</td>\n",
       "      <td>1.000000</td>\n",
       "      <td>2.000000</td>\n",
       "      <td>1.000000</td>\n",
       "      <td>1.00000</td>\n",
       "      <td>1.000000</td>\n",
       "      <td>1.000000</td>\n",
       "      <td>1.000000</td>\n",
       "      <td>1.000000</td>\n",
       "      <td>1.000000</td>\n",
       "      <td>1.000000</td>\n",
       "      <td>1.000000</td>\n",
       "      <td>1.000000</td>\n",
       "      <td>1.000000</td>\n",
       "      <td>1.000000</td>\n",
       "      <td>1.000000</td>\n",
       "      <td>1.000000</td>\n",
       "      <td>1.000000</td>\n",
       "      <td>1.000000</td>\n",
       "      <td>1.000000</td>\n",
       "      <td>1.000000</td>\n",
       "      <td>1.000000</td>\n",
       "      <td>1.000000</td>\n",
       "      <td>1.000000</td>\n",
       "      <td>1.000000</td>\n",
       "      <td>1.000000</td>\n",
       "      <td>1.000000</td>\n",
       "      <td>1.000000</td>\n",
       "      <td>1.000000</td>\n",
       "      <td>1.000000</td>\n",
       "      <td>1.000000</td>\n",
       "      <td>1.000000</td>\n",
       "      <td>1.000000</td>\n",
       "      <td>1.000000</td>\n",
       "      <td>1.000000</td>\n",
       "      <td>1.000000</td>\n",
       "      <td>1.000000</td>\n",
       "      <td>1.000000</td>\n",
       "      <td>1.000000</td>\n",
       "      <td>1.000000</td>\n",
       "      <td>1.000000</td>\n",
       "      <td>1.000000</td>\n",
       "      <td>1.000000</td>\n",
       "      <td>1.000000</td>\n",
       "      <td>1.000000</td>\n",
       "      <td>1.000000</td>\n",
       "      <td>1.000000</td>\n",
       "      <td>1.000000</td>\n",
       "      <td>1.000000</td>\n",
       "      <td>1.000000</td>\n",
       "      <td>1.000000</td>\n",
       "      <td>1.000000</td>\n",
       "      <td>1.000000</td>\n",
       "      <td>1.000000</td>\n",
       "      <td>1.000000</td>\n",
       "      <td>1.000000</td>\n",
       "      <td>1.000000</td>\n",
       "      <td>1.000000</td>\n",
       "      <td>1.000000</td>\n",
       "      <td>1.000000</td>\n",
       "      <td>1.000000</td>\n",
       "      <td>1.000000</td>\n",
       "      <td>1.000000</td>\n",
       "      <td>1.000000</td>\n",
       "      <td>1.000000</td>\n",
       "      <td>1.000000</td>\n",
       "      <td>1.000000</td>\n",
       "      <td>1.000000</td>\n",
       "      <td>1.000000</td>\n",
       "      <td>1.000000</td>\n",
       "      <td>1.000000</td>\n",
       "      <td>1.000000</td>\n",
       "      <td>1.000000</td>\n",
       "      <td>1.000000</td>\n",
       "      <td>1.000000</td>\n",
       "      <td>1.000000</td>\n",
       "      <td>1.00000</td>\n",
       "      <td>15.000000</td>\n",
       "      <td>62.000000</td>\n",
       "      <td>41.000000</td>\n",
       "      <td>0.000000</td>\n",
       "    </tr>\n",
       "    <tr>\n",
       "      <th>25%</th>\n",
       "      <td>5.000000</td>\n",
       "      <td>3.000000</td>\n",
       "      <td>2.000000</td>\n",
       "      <td>1.000000</td>\n",
       "      <td>1.000000</td>\n",
       "      <td>2.000000</td>\n",
       "      <td>2.000000</td>\n",
       "      <td>3.000000</td>\n",
       "      <td>3.000000</td>\n",
       "      <td>1.000000</td>\n",
       "      <td>1.000000</td>\n",
       "      <td>2.000000</td>\n",
       "      <td>2.000000</td>\n",
       "      <td>2.000000</td>\n",
       "      <td>2.000000</td>\n",
       "      <td>2.000000</td>\n",
       "      <td>2.000000</td>\n",
       "      <td>1.000000</td>\n",
       "      <td>1.000000</td>\n",
       "      <td>4.000000</td>\n",
       "      <td>1.000000</td>\n",
       "      <td>3.000000</td>\n",
       "      <td>4.000000</td>\n",
       "      <td>3.000000</td>\n",
       "      <td>2.000000</td>\n",
       "      <td>2.000000</td>\n",
       "      <td>3.000000</td>\n",
       "      <td>3.000000</td>\n",
       "      <td>3.000000</td>\n",
       "      <td>1.000000</td>\n",
       "      <td>3.000000</td>\n",
       "      <td>2.000000</td>\n",
       "      <td>2.000000</td>\n",
       "      <td>1.000000</td>\n",
       "      <td>1.000000</td>\n",
       "      <td>1.000000</td>\n",
       "      <td>4.000000</td>\n",
       "      <td>2.000000</td>\n",
       "      <td>1.000000</td>\n",
       "      <td>2.000000</td>\n",
       "      <td>1.000000</td>\n",
       "      <td>2.000000</td>\n",
       "      <td>2.000000</td>\n",
       "      <td>3.000000</td>\n",
       "      <td>1.000000</td>\n",
       "      <td>1.000000</td>\n",
       "      <td>1.000000</td>\n",
       "      <td>1.000000</td>\n",
       "      <td>1.000000</td>\n",
       "      <td>3.000000</td>\n",
       "      <td>1.000000</td>\n",
       "      <td>1.000000</td>\n",
       "      <td>1.000000</td>\n",
       "      <td>2.000000</td>\n",
       "      <td>2.000000</td>\n",
       "      <td>1.000000</td>\n",
       "      <td>1.000000</td>\n",
       "      <td>2.000000</td>\n",
       "      <td>2.000000</td>\n",
       "      <td>2.000000</td>\n",
       "      <td>4.000000</td>\n",
       "      <td>2.000000</td>\n",
       "      <td>2.00000</td>\n",
       "      <td>1.000000</td>\n",
       "      <td>1.000000</td>\n",
       "      <td>1.000000</td>\n",
       "      <td>2.000000</td>\n",
       "      <td>1.000000</td>\n",
       "      <td>2.000000</td>\n",
       "      <td>1.000000</td>\n",
       "      <td>1.000000</td>\n",
       "      <td>2.000000</td>\n",
       "      <td>2.000000</td>\n",
       "      <td>3.000000</td>\n",
       "      <td>2.000000</td>\n",
       "      <td>2.000000</td>\n",
       "      <td>2.000000</td>\n",
       "      <td>2.000000</td>\n",
       "      <td>3.000000</td>\n",
       "      <td>1.000000</td>\n",
       "      <td>3.000000</td>\n",
       "      <td>3.000000</td>\n",
       "      <td>2.000000</td>\n",
       "      <td>3.000000</td>\n",
       "      <td>3.000000</td>\n",
       "      <td>1.000000</td>\n",
       "      <td>1.000000</td>\n",
       "      <td>2.000000</td>\n",
       "      <td>2.000000</td>\n",
       "      <td>3.000000</td>\n",
       "      <td>3.000000</td>\n",
       "      <td>1.000000</td>\n",
       "      <td>3.000000</td>\n",
       "      <td>1.000000</td>\n",
       "      <td>2.000000</td>\n",
       "      <td>3.000000</td>\n",
       "      <td>3.000000</td>\n",
       "      <td>2.000000</td>\n",
       "      <td>3.000000</td>\n",
       "      <td>3.000000</td>\n",
       "      <td>2.000000</td>\n",
       "      <td>2.000000</td>\n",
       "      <td>3.000000</td>\n",
       "      <td>1.000000</td>\n",
       "      <td>3.000000</td>\n",
       "      <td>2.000000</td>\n",
       "      <td>3.000000</td>\n",
       "      <td>3.000000</td>\n",
       "      <td>3.000000</td>\n",
       "      <td>2.000000</td>\n",
       "      <td>2.000000</td>\n",
       "      <td>2.000000</td>\n",
       "      <td>3.000000</td>\n",
       "      <td>3.000000</td>\n",
       "      <td>2.000000</td>\n",
       "      <td>3.000000</td>\n",
       "      <td>3.000000</td>\n",
       "      <td>3.000000</td>\n",
       "      <td>2.000000</td>\n",
       "      <td>3.000000</td>\n",
       "      <td>3.000000</td>\n",
       "      <td>2.000000</td>\n",
       "      <td>3.000000</td>\n",
       "      <td>2.000000</td>\n",
       "      <td>3.000000</td>\n",
       "      <td>3.000000</td>\n",
       "      <td>3.000000</td>\n",
       "      <td>2.000000</td>\n",
       "      <td>2.000000</td>\n",
       "      <td>2.000000</td>\n",
       "      <td>2.000000</td>\n",
       "      <td>2.000000</td>\n",
       "      <td>2.000000</td>\n",
       "      <td>2.000000</td>\n",
       "      <td>3.00000</td>\n",
       "      <td>19.000000</td>\n",
       "      <td>167.000000</td>\n",
       "      <td>55.000000</td>\n",
       "      <td>1.000000</td>\n",
       "    </tr>\n",
       "    <tr>\n",
       "      <th>50%</th>\n",
       "      <td>5.000000</td>\n",
       "      <td>3.000000</td>\n",
       "      <td>3.000000</td>\n",
       "      <td>2.000000</td>\n",
       "      <td>2.000000</td>\n",
       "      <td>3.000000</td>\n",
       "      <td>3.000000</td>\n",
       "      <td>4.000000</td>\n",
       "      <td>4.000000</td>\n",
       "      <td>2.000000</td>\n",
       "      <td>2.000000</td>\n",
       "      <td>3.000000</td>\n",
       "      <td>3.000000</td>\n",
       "      <td>3.000000</td>\n",
       "      <td>3.000000</td>\n",
       "      <td>3.000000</td>\n",
       "      <td>3.000000</td>\n",
       "      <td>2.000000</td>\n",
       "      <td>2.000000</td>\n",
       "      <td>5.000000</td>\n",
       "      <td>3.000000</td>\n",
       "      <td>4.000000</td>\n",
       "      <td>5.000000</td>\n",
       "      <td>4.000000</td>\n",
       "      <td>3.000000</td>\n",
       "      <td>3.000000</td>\n",
       "      <td>4.000000</td>\n",
       "      <td>4.000000</td>\n",
       "      <td>4.000000</td>\n",
       "      <td>2.000000</td>\n",
       "      <td>4.000000</td>\n",
       "      <td>3.000000</td>\n",
       "      <td>3.000000</td>\n",
       "      <td>2.000000</td>\n",
       "      <td>2.000000</td>\n",
       "      <td>2.000000</td>\n",
       "      <td>4.000000</td>\n",
       "      <td>3.000000</td>\n",
       "      <td>2.000000</td>\n",
       "      <td>2.000000</td>\n",
       "      <td>2.000000</td>\n",
       "      <td>3.000000</td>\n",
       "      <td>3.000000</td>\n",
       "      <td>4.000000</td>\n",
       "      <td>2.000000</td>\n",
       "      <td>2.000000</td>\n",
       "      <td>3.000000</td>\n",
       "      <td>2.000000</td>\n",
       "      <td>2.000000</td>\n",
       "      <td>4.000000</td>\n",
       "      <td>2.000000</td>\n",
       "      <td>2.000000</td>\n",
       "      <td>1.000000</td>\n",
       "      <td>3.000000</td>\n",
       "      <td>3.000000</td>\n",
       "      <td>1.000000</td>\n",
       "      <td>2.000000</td>\n",
       "      <td>3.000000</td>\n",
       "      <td>3.000000</td>\n",
       "      <td>3.000000</td>\n",
       "      <td>5.000000</td>\n",
       "      <td>3.000000</td>\n",
       "      <td>4.00000</td>\n",
       "      <td>2.000000</td>\n",
       "      <td>2.000000</td>\n",
       "      <td>2.000000</td>\n",
       "      <td>2.000000</td>\n",
       "      <td>3.000000</td>\n",
       "      <td>3.000000</td>\n",
       "      <td>2.000000</td>\n",
       "      <td>2.000000</td>\n",
       "      <td>3.000000</td>\n",
       "      <td>3.000000</td>\n",
       "      <td>3.000000</td>\n",
       "      <td>3.000000</td>\n",
       "      <td>3.000000</td>\n",
       "      <td>3.000000</td>\n",
       "      <td>3.000000</td>\n",
       "      <td>3.000000</td>\n",
       "      <td>3.000000</td>\n",
       "      <td>4.000000</td>\n",
       "      <td>4.000000</td>\n",
       "      <td>3.000000</td>\n",
       "      <td>4.000000</td>\n",
       "      <td>3.000000</td>\n",
       "      <td>2.000000</td>\n",
       "      <td>2.000000</td>\n",
       "      <td>3.000000</td>\n",
       "      <td>4.000000</td>\n",
       "      <td>4.000000</td>\n",
       "      <td>4.000000</td>\n",
       "      <td>1.000000</td>\n",
       "      <td>4.000000</td>\n",
       "      <td>2.000000</td>\n",
       "      <td>3.000000</td>\n",
       "      <td>4.000000</td>\n",
       "      <td>4.000000</td>\n",
       "      <td>3.000000</td>\n",
       "      <td>4.000000</td>\n",
       "      <td>3.000000</td>\n",
       "      <td>3.000000</td>\n",
       "      <td>3.000000</td>\n",
       "      <td>3.000000</td>\n",
       "      <td>2.000000</td>\n",
       "      <td>3.000000</td>\n",
       "      <td>3.000000</td>\n",
       "      <td>4.000000</td>\n",
       "      <td>3.000000</td>\n",
       "      <td>4.000000</td>\n",
       "      <td>3.000000</td>\n",
       "      <td>3.000000</td>\n",
       "      <td>3.000000</td>\n",
       "      <td>4.000000</td>\n",
       "      <td>4.000000</td>\n",
       "      <td>3.000000</td>\n",
       "      <td>4.000000</td>\n",
       "      <td>4.000000</td>\n",
       "      <td>3.000000</td>\n",
       "      <td>3.000000</td>\n",
       "      <td>4.000000</td>\n",
       "      <td>4.000000</td>\n",
       "      <td>3.000000</td>\n",
       "      <td>3.000000</td>\n",
       "      <td>3.000000</td>\n",
       "      <td>4.000000</td>\n",
       "      <td>4.000000</td>\n",
       "      <td>3.000000</td>\n",
       "      <td>3.000000</td>\n",
       "      <td>3.000000</td>\n",
       "      <td>3.000000</td>\n",
       "      <td>3.000000</td>\n",
       "      <td>3.000000</td>\n",
       "      <td>3.000000</td>\n",
       "      <td>3.000000</td>\n",
       "      <td>4.00000</td>\n",
       "      <td>20.000000</td>\n",
       "      <td>173.000000</td>\n",
       "      <td>64.000000</td>\n",
       "      <td>1.000000</td>\n",
       "    </tr>\n",
       "    <tr>\n",
       "      <th>75%</th>\n",
       "      <td>5.000000</td>\n",
       "      <td>4.000000</td>\n",
       "      <td>4.000000</td>\n",
       "      <td>3.000000</td>\n",
       "      <td>3.000000</td>\n",
       "      <td>4.000000</td>\n",
       "      <td>4.000000</td>\n",
       "      <td>4.000000</td>\n",
       "      <td>5.000000</td>\n",
       "      <td>3.000000</td>\n",
       "      <td>3.000000</td>\n",
       "      <td>4.000000</td>\n",
       "      <td>4.000000</td>\n",
       "      <td>4.000000</td>\n",
       "      <td>4.000000</td>\n",
       "      <td>4.000000</td>\n",
       "      <td>4.000000</td>\n",
       "      <td>3.000000</td>\n",
       "      <td>3.000000</td>\n",
       "      <td>5.000000</td>\n",
       "      <td>4.000000</td>\n",
       "      <td>4.000000</td>\n",
       "      <td>5.000000</td>\n",
       "      <td>5.000000</td>\n",
       "      <td>4.000000</td>\n",
       "      <td>4.000000</td>\n",
       "      <td>5.000000</td>\n",
       "      <td>5.000000</td>\n",
       "      <td>5.000000</td>\n",
       "      <td>3.000000</td>\n",
       "      <td>5.000000</td>\n",
       "      <td>4.000000</td>\n",
       "      <td>4.000000</td>\n",
       "      <td>4.000000</td>\n",
       "      <td>3.000000</td>\n",
       "      <td>3.000000</td>\n",
       "      <td>5.000000</td>\n",
       "      <td>4.000000</td>\n",
       "      <td>4.000000</td>\n",
       "      <td>4.000000</td>\n",
       "      <td>3.000000</td>\n",
       "      <td>5.000000</td>\n",
       "      <td>4.000000</td>\n",
       "      <td>5.000000</td>\n",
       "      <td>3.000000</td>\n",
       "      <td>3.000000</td>\n",
       "      <td>4.000000</td>\n",
       "      <td>4.000000</td>\n",
       "      <td>3.000000</td>\n",
       "      <td>5.000000</td>\n",
       "      <td>4.000000</td>\n",
       "      <td>4.000000</td>\n",
       "      <td>3.000000</td>\n",
       "      <td>5.000000</td>\n",
       "      <td>5.000000</td>\n",
       "      <td>3.000000</td>\n",
       "      <td>3.000000</td>\n",
       "      <td>4.000000</td>\n",
       "      <td>4.000000</td>\n",
       "      <td>4.000000</td>\n",
       "      <td>5.000000</td>\n",
       "      <td>4.000000</td>\n",
       "      <td>5.00000</td>\n",
       "      <td>3.000000</td>\n",
       "      <td>3.000000</td>\n",
       "      <td>3.000000</td>\n",
       "      <td>4.000000</td>\n",
       "      <td>4.000000</td>\n",
       "      <td>4.000000</td>\n",
       "      <td>3.000000</td>\n",
       "      <td>4.000000</td>\n",
       "      <td>4.000000</td>\n",
       "      <td>4.000000</td>\n",
       "      <td>4.000000</td>\n",
       "      <td>4.000000</td>\n",
       "      <td>3.000000</td>\n",
       "      <td>4.000000</td>\n",
       "      <td>4.000000</td>\n",
       "      <td>4.000000</td>\n",
       "      <td>4.000000</td>\n",
       "      <td>5.000000</td>\n",
       "      <td>5.000000</td>\n",
       "      <td>4.000000</td>\n",
       "      <td>5.000000</td>\n",
       "      <td>4.000000</td>\n",
       "      <td>3.000000</td>\n",
       "      <td>4.000000</td>\n",
       "      <td>4.000000</td>\n",
       "      <td>5.000000</td>\n",
       "      <td>5.000000</td>\n",
       "      <td>5.000000</td>\n",
       "      <td>3.000000</td>\n",
       "      <td>5.000000</td>\n",
       "      <td>3.000000</td>\n",
       "      <td>4.000000</td>\n",
       "      <td>5.000000</td>\n",
       "      <td>5.000000</td>\n",
       "      <td>4.000000</td>\n",
       "      <td>5.000000</td>\n",
       "      <td>4.000000</td>\n",
       "      <td>4.000000</td>\n",
       "      <td>5.000000</td>\n",
       "      <td>4.000000</td>\n",
       "      <td>3.000000</td>\n",
       "      <td>4.000000</td>\n",
       "      <td>3.000000</td>\n",
       "      <td>4.000000</td>\n",
       "      <td>4.000000</td>\n",
       "      <td>4.000000</td>\n",
       "      <td>4.000000</td>\n",
       "      <td>4.000000</td>\n",
       "      <td>4.000000</td>\n",
       "      <td>5.000000</td>\n",
       "      <td>4.000000</td>\n",
       "      <td>4.000000</td>\n",
       "      <td>4.000000</td>\n",
       "      <td>5.000000</td>\n",
       "      <td>4.000000</td>\n",
       "      <td>4.000000</td>\n",
       "      <td>4.000000</td>\n",
       "      <td>4.000000</td>\n",
       "      <td>4.000000</td>\n",
       "      <td>4.000000</td>\n",
       "      <td>4.000000</td>\n",
       "      <td>5.000000</td>\n",
       "      <td>5.000000</td>\n",
       "      <td>4.000000</td>\n",
       "      <td>3.000000</td>\n",
       "      <td>4.000000</td>\n",
       "      <td>4.000000</td>\n",
       "      <td>4.000000</td>\n",
       "      <td>4.000000</td>\n",
       "      <td>4.000000</td>\n",
       "      <td>4.000000</td>\n",
       "      <td>4.00000</td>\n",
       "      <td>22.000000</td>\n",
       "      <td>180.000000</td>\n",
       "      <td>75.000000</td>\n",
       "      <td>2.000000</td>\n",
       "    </tr>\n",
       "    <tr>\n",
       "      <th>max</th>\n",
       "      <td>5.000000</td>\n",
       "      <td>5.000000</td>\n",
       "      <td>5.000000</td>\n",
       "      <td>5.000000</td>\n",
       "      <td>5.000000</td>\n",
       "      <td>5.000000</td>\n",
       "      <td>5.000000</td>\n",
       "      <td>5.000000</td>\n",
       "      <td>5.000000</td>\n",
       "      <td>5.000000</td>\n",
       "      <td>5.000000</td>\n",
       "      <td>5.000000</td>\n",
       "      <td>5.000000</td>\n",
       "      <td>5.000000</td>\n",
       "      <td>5.000000</td>\n",
       "      <td>5.000000</td>\n",
       "      <td>5.000000</td>\n",
       "      <td>5.000000</td>\n",
       "      <td>5.000000</td>\n",
       "      <td>5.000000</td>\n",
       "      <td>5.000000</td>\n",
       "      <td>5.000000</td>\n",
       "      <td>5.000000</td>\n",
       "      <td>5.000000</td>\n",
       "      <td>5.000000</td>\n",
       "      <td>5.000000</td>\n",
       "      <td>5.000000</td>\n",
       "      <td>5.000000</td>\n",
       "      <td>5.000000</td>\n",
       "      <td>5.000000</td>\n",
       "      <td>5.000000</td>\n",
       "      <td>5.000000</td>\n",
       "      <td>5.000000</td>\n",
       "      <td>5.000000</td>\n",
       "      <td>5.000000</td>\n",
       "      <td>5.000000</td>\n",
       "      <td>5.000000</td>\n",
       "      <td>5.000000</td>\n",
       "      <td>5.000000</td>\n",
       "      <td>5.000000</td>\n",
       "      <td>5.000000</td>\n",
       "      <td>5.000000</td>\n",
       "      <td>5.000000</td>\n",
       "      <td>5.000000</td>\n",
       "      <td>5.000000</td>\n",
       "      <td>5.000000</td>\n",
       "      <td>5.000000</td>\n",
       "      <td>5.000000</td>\n",
       "      <td>5.000000</td>\n",
       "      <td>5.000000</td>\n",
       "      <td>5.000000</td>\n",
       "      <td>5.000000</td>\n",
       "      <td>5.000000</td>\n",
       "      <td>5.000000</td>\n",
       "      <td>5.000000</td>\n",
       "      <td>5.000000</td>\n",
       "      <td>5.000000</td>\n",
       "      <td>5.000000</td>\n",
       "      <td>5.000000</td>\n",
       "      <td>5.000000</td>\n",
       "      <td>5.000000</td>\n",
       "      <td>5.000000</td>\n",
       "      <td>5.00000</td>\n",
       "      <td>5.000000</td>\n",
       "      <td>5.000000</td>\n",
       "      <td>5.000000</td>\n",
       "      <td>5.000000</td>\n",
       "      <td>5.000000</td>\n",
       "      <td>5.000000</td>\n",
       "      <td>5.000000</td>\n",
       "      <td>5.000000</td>\n",
       "      <td>5.000000</td>\n",
       "      <td>5.000000</td>\n",
       "      <td>5.000000</td>\n",
       "      <td>5.000000</td>\n",
       "      <td>5.000000</td>\n",
       "      <td>5.000000</td>\n",
       "      <td>5.000000</td>\n",
       "      <td>5.000000</td>\n",
       "      <td>5.000000</td>\n",
       "      <td>5.000000</td>\n",
       "      <td>5.000000</td>\n",
       "      <td>5.000000</td>\n",
       "      <td>5.000000</td>\n",
       "      <td>5.000000</td>\n",
       "      <td>5.000000</td>\n",
       "      <td>5.000000</td>\n",
       "      <td>5.000000</td>\n",
       "      <td>5.000000</td>\n",
       "      <td>5.000000</td>\n",
       "      <td>5.000000</td>\n",
       "      <td>5.000000</td>\n",
       "      <td>5.000000</td>\n",
       "      <td>5.000000</td>\n",
       "      <td>5.000000</td>\n",
       "      <td>5.000000</td>\n",
       "      <td>5.000000</td>\n",
       "      <td>5.000000</td>\n",
       "      <td>5.000000</td>\n",
       "      <td>5.000000</td>\n",
       "      <td>5.000000</td>\n",
       "      <td>5.000000</td>\n",
       "      <td>5.000000</td>\n",
       "      <td>5.000000</td>\n",
       "      <td>5.000000</td>\n",
       "      <td>5.000000</td>\n",
       "      <td>5.000000</td>\n",
       "      <td>5.000000</td>\n",
       "      <td>5.000000</td>\n",
       "      <td>5.000000</td>\n",
       "      <td>5.000000</td>\n",
       "      <td>5.000000</td>\n",
       "      <td>5.000000</td>\n",
       "      <td>5.000000</td>\n",
       "      <td>5.000000</td>\n",
       "      <td>5.000000</td>\n",
       "      <td>5.000000</td>\n",
       "      <td>5.000000</td>\n",
       "      <td>5.000000</td>\n",
       "      <td>5.000000</td>\n",
       "      <td>5.000000</td>\n",
       "      <td>5.000000</td>\n",
       "      <td>5.000000</td>\n",
       "      <td>5.000000</td>\n",
       "      <td>5.000000</td>\n",
       "      <td>5.000000</td>\n",
       "      <td>5.000000</td>\n",
       "      <td>5.000000</td>\n",
       "      <td>5.000000</td>\n",
       "      <td>5.000000</td>\n",
       "      <td>5.000000</td>\n",
       "      <td>5.000000</td>\n",
       "      <td>5.000000</td>\n",
       "      <td>5.000000</td>\n",
       "      <td>5.00000</td>\n",
       "      <td>30.000000</td>\n",
       "      <td>203.000000</td>\n",
       "      <td>165.000000</td>\n",
       "      <td>10.000000</td>\n",
       "    </tr>\n",
       "  </tbody>\n",
       "</table>\n",
       "</div>"
      ],
      "text/plain": [
       "             Music  Slow songs or fast songs        Dance         Folk  \\\n",
       "count  1007.000000               1008.000000  1006.000000  1005.000000   \n",
       "mean      4.731877                  3.328373     3.113320     2.288557   \n",
       "std       0.664049                  0.833931     1.170568     1.138916   \n",
       "min       1.000000                  1.000000     1.000000     1.000000   \n",
       "25%       5.000000                  3.000000     2.000000     1.000000   \n",
       "50%       5.000000                  3.000000     3.000000     2.000000   \n",
       "75%       5.000000                  4.000000     4.000000     3.000000   \n",
       "max       5.000000                  5.000000     5.000000     5.000000   \n",
       "\n",
       "           Country  Classical music      Musical          Pop         Rock  \\\n",
       "count  1005.000000      1003.000000  1008.000000  1007.000000  1004.000000   \n",
       "mean      2.123383         2.956132     2.761905     3.471698     3.761952   \n",
       "std       1.076136         1.252570     1.260845     1.161400     1.184861   \n",
       "min       1.000000         1.000000     1.000000     1.000000     1.000000   \n",
       "25%       1.000000         2.000000     2.000000     3.000000     3.000000   \n",
       "50%       2.000000         3.000000     3.000000     4.000000     4.000000   \n",
       "75%       3.000000         4.000000     4.000000     4.000000     5.000000   \n",
       "max       5.000000         5.000000     5.000000     5.000000     5.000000   \n",
       "\n",
       "       Metal or Hardrock         Punk  Hiphop, Rap  Reggae, Ska  Swing, Jazz  \\\n",
       "count        1007.000000  1002.000000  1006.000000  1003.000000  1004.000000   \n",
       "mean            2.361470     2.456088     2.910537     2.769691     2.759960   \n",
       "std             1.372995     1.301105     1.375677     1.214434     1.257936   \n",
       "min             1.000000     1.000000     1.000000     1.000000     1.000000   \n",
       "25%             1.000000     1.000000     2.000000     2.000000     2.000000   \n",
       "50%             2.000000     2.000000     3.000000     3.000000     3.000000   \n",
       "75%             3.000000     3.000000     4.000000     4.000000     4.000000   \n",
       "max             5.000000     5.000000     5.000000     5.000000     5.000000   \n",
       "\n",
       "       Rock n roll  Alternative       Latino  Techno, Trance        Opera  \\\n",
       "count  1003.000000  1003.000000  1002.000000     1003.000000  1009.000000   \n",
       "mean      3.141575     2.828514     2.842315        2.338983     2.139742   \n",
       "std       1.237269     1.347173     1.327902        1.324099     1.184094   \n",
       "min       1.000000     1.000000     1.000000        1.000000     1.000000   \n",
       "25%       2.000000     2.000000     2.000000        1.000000     1.000000   \n",
       "50%       3.000000     3.000000     3.000000        2.000000     2.000000   \n",
       "75%       4.000000     4.000000     4.000000        3.000000     3.000000   \n",
       "max       5.000000     5.000000     5.000000        5.000000     5.000000   \n",
       "\n",
       "            Movies       Horror     Thriller       Comedy     Romantic  \\\n",
       "count  1004.000000  1008.000000  1009.000000  1007.000000  1007.000000   \n",
       "mean      4.613546     2.793651     3.383548     4.494538     3.489573   \n",
       "std       0.694700     1.411078     1.197951     0.779789     1.209489   \n",
       "min       1.000000     1.000000     1.000000     1.000000     1.000000   \n",
       "25%       4.000000     1.000000     3.000000     4.000000     3.000000   \n",
       "50%       5.000000     3.000000     4.000000     5.000000     4.000000   \n",
       "75%       5.000000     4.000000     4.000000     5.000000     5.000000   \n",
       "max       5.000000     5.000000     5.000000     5.000000     5.000000   \n",
       "\n",
       "            Sci-fi          War  Fantasy/Fairy tales     Animated  \\\n",
       "count  1008.000000  1008.000000          1007.000000  1007.000000   \n",
       "mean      3.113095     3.155754             3.749752     3.788481   \n",
       "std       1.311892     1.348266             1.181761     1.219436   \n",
       "min       1.000000     1.000000             1.000000     1.000000   \n",
       "25%       2.000000     2.000000             3.000000     3.000000   \n",
       "50%       3.000000     3.000000             4.000000     4.000000   \n",
       "75%       4.000000     4.000000             5.000000     5.000000   \n",
       "max       5.000000     5.000000             5.000000     5.000000   \n",
       "\n",
       "       Documentary      Western       Action      History   Psychology  \\\n",
       "count  1002.000000  1006.000000  1008.000000  1008.000000  1005.000000   \n",
       "mean      3.643713     2.126243     3.536706     3.207341     3.138308   \n",
       "std       1.133367     1.138633     1.236101     1.263523     1.258349   \n",
       "min       1.000000     1.000000     1.000000     1.000000     1.000000   \n",
       "25%       3.000000     1.000000     3.000000     2.000000     2.000000   \n",
       "50%       4.000000     2.000000     4.000000     3.000000     3.000000   \n",
       "75%       5.000000     3.000000     5.000000     4.000000     4.000000   \n",
       "max       5.000000     5.000000     5.000000     5.000000     5.000000   \n",
       "\n",
       "          Politics  Mathematics      Physics     Internet           PC  \\\n",
       "count  1009.000000  1007.000000  1007.000000  1006.000000  1004.000000   \n",
       "mean      2.595639     2.334657     2.064548     4.175944     3.136454   \n",
       "std       1.294456     1.352496     1.227098     0.920663     1.321766   \n",
       "min       1.000000     1.000000     1.000000     1.000000     1.000000   \n",
       "25%       1.000000     1.000000     1.000000     4.000000     2.000000   \n",
       "50%       2.000000     2.000000     2.000000     4.000000     3.000000   \n",
       "75%       4.000000     3.000000     3.000000     5.000000     4.000000   \n",
       "max       5.000000     5.000000     5.000000     5.000000     5.000000   \n",
       "\n",
       "       Economy Management      Biology    Chemistry      Reading    Geography  \\\n",
       "count         1005.000000  1004.000000  1000.000000  1004.000000  1001.000000   \n",
       "mean             2.643781     2.665339     2.165000     3.159363     3.082917   \n",
       "std              1.347298     1.384127     1.378287     1.495924     1.282232   \n",
       "min              1.000000     1.000000     1.000000     1.000000     1.000000   \n",
       "25%              1.000000     2.000000     1.000000     2.000000     2.000000   \n",
       "50%              2.000000     2.000000     2.000000     3.000000     3.000000   \n",
       "75%              4.000000     4.000000     3.000000     5.000000     4.000000   \n",
       "max              5.000000     5.000000     5.000000     5.000000     5.000000   \n",
       "\n",
       "       Foreign languages     Medicine          Law         Cars  \\\n",
       "count        1005.000000  1005.000000  1009.000000  1006.000000   \n",
       "mean            3.778109     2.516418     2.256690     2.686879   \n",
       "std             1.141188     1.380347     1.242644     1.440829   \n",
       "min             1.000000     1.000000     1.000000     1.000000   \n",
       "25%             3.000000     1.000000     1.000000     1.000000   \n",
       "50%             4.000000     2.000000     2.000000     3.000000   \n",
       "75%             5.000000     3.000000     3.000000     4.000000   \n",
       "max             5.000000     5.000000     5.000000     5.000000   \n",
       "\n",
       "       Art exhibitions     Religion  Countryside, outdoors      Dancing  \\\n",
       "count      1004.000000  1007.000000            1003.000000  1007.000000   \n",
       "mean          2.589641     2.273088               3.686939     2.461768   \n",
       "std           1.322002     1.319641               1.196176     1.450399   \n",
       "min           1.000000     1.000000               1.000000     1.000000   \n",
       "25%           1.000000     1.000000               3.000000     1.000000   \n",
       "50%           2.000000     2.000000               4.000000     2.000000   \n",
       "75%           4.000000     3.000000               5.000000     4.000000   \n",
       "max           5.000000     5.000000               5.000000     5.000000   \n",
       "\n",
       "       Musical instruments      Writing  Passive sport  Active sport  \\\n",
       "count          1009.000000  1004.000000     995.000000   1006.000000   \n",
       "mean              2.324083     1.901394       3.387940      3.291252   \n",
       "std               1.512850     1.287736       1.405027      1.504111   \n",
       "min               1.000000     1.000000       1.000000      1.000000   \n",
       "25%               1.000000     1.000000       2.000000      2.000000   \n",
       "50%               2.000000     1.000000       3.000000      3.000000   \n",
       "75%               4.000000     3.000000       5.000000      5.000000   \n",
       "max               5.000000     5.000000       5.000000      5.000000   \n",
       "\n",
       "         Gardening  Celebrities     Shopping  Science and technology  \\\n",
       "count  1003.000000  1008.000000  1008.000000             1004.000000   \n",
       "mean      1.907278     2.362103     3.276786                3.234064   \n",
       "std       1.175421     1.270251     1.286156                1.282599   \n",
       "min       1.000000     1.000000     1.000000                1.000000   \n",
       "25%       1.000000     1.000000     2.000000                2.000000   \n",
       "50%       1.000000     2.000000     3.000000                3.000000   \n",
       "75%       3.000000     3.000000     4.000000                4.000000   \n",
       "max       5.000000     5.000000     5.000000                5.000000   \n",
       "\n",
       "           Theatre  Fun with friends  Adrenaline sports        Pets  \\\n",
       "count  1002.000000       1006.000000        1007.000000  1006.00000   \n",
       "mean      3.024950          4.557654           2.948361     3.33499   \n",
       "std       1.325375          0.737183           1.420985     1.54537   \n",
       "min       1.000000          2.000000           1.000000     1.00000   \n",
       "25%       2.000000          4.000000           2.000000     2.00000   \n",
       "50%       3.000000          5.000000           3.000000     4.00000   \n",
       "75%       4.000000          5.000000           4.000000     5.00000   \n",
       "max       5.000000          5.000000           5.000000     5.00000   \n",
       "\n",
       "            Flying        Storm     Darkness      Heights      Spiders  \\\n",
       "count  1007.000000  1009.000000  1008.000000  1007.000000  1005.000000   \n",
       "mean      2.061569     1.973241     2.250992     2.615690     2.825871   \n",
       "std       1.211354     1.164231     1.254782     1.295455     1.543695   \n",
       "min       1.000000     1.000000     1.000000     1.000000     1.000000   \n",
       "25%       1.000000     1.000000     1.000000     2.000000     1.000000   \n",
       "50%       2.000000     2.000000     2.000000     2.000000     3.000000   \n",
       "75%       3.000000     3.000000     3.000000     4.000000     4.000000   \n",
       "max       5.000000     5.000000     5.000000     5.000000     5.000000   \n",
       "\n",
       "            Snakes         Rats       Ageing  Dangerous dogs  \\\n",
       "count  1010.000000  1007.000000  1009.000000     1009.000000   \n",
       "mean      3.027723     2.409136     2.580773        3.042616   \n",
       "std       1.500982     1.400595     1.386466        1.366829   \n",
       "min       1.000000     1.000000     1.000000        1.000000   \n",
       "25%       2.000000     1.000000     1.000000        2.000000   \n",
       "50%       3.000000     2.000000     2.000000        3.000000   \n",
       "75%       4.000000     3.000000     4.000000        4.000000   \n",
       "max       5.000000     5.000000     5.000000        5.000000   \n",
       "\n",
       "       Fear of public speaking  Healthy eating  Daily events  \\\n",
       "count              1009.000000     1007.000000   1003.000000   \n",
       "mean                  2.803766        3.031778      3.074776   \n",
       "std                   1.214637        0.936865      1.118432   \n",
       "min                   1.000000        1.000000      1.000000   \n",
       "25%                   2.000000        3.000000      2.000000   \n",
       "50%                   3.000000        3.000000      3.000000   \n",
       "75%                   4.000000        4.000000      4.000000   \n",
       "max                   5.000000        5.000000      5.000000   \n",
       "\n",
       "       Prioritising workload  Writing notes  Workaholism  Thinking ahead  \\\n",
       "count            1005.000000    1007.000000  1005.000000     1007.000000   \n",
       "mean                2.645771       3.083416     2.996020        3.414101   \n",
       "std                 1.220629       1.408224     1.277285        1.136910   \n",
       "min                 1.000000       1.000000     1.000000        1.000000   \n",
       "25%                 2.000000       2.000000     2.000000        3.000000   \n",
       "50%                 3.000000       3.000000     3.000000        3.000000   \n",
       "75%                 3.000000       4.000000     4.000000        4.000000   \n",
       "max                 5.000000       5.000000     5.000000        5.000000   \n",
       "\n",
       "       Final judgement  Reliability  Keeping promises  Loss of interest  \\\n",
       "count      1003.000000  1006.000000       1009.000000       1006.000000   \n",
       "mean          2.649053     3.858847          3.987116          2.708748   \n",
       "std           1.379370     0.933594          0.899092          1.353699   \n",
       "min           1.000000     1.000000          1.000000          1.000000   \n",
       "25%           1.000000     3.000000          3.000000          2.000000   \n",
       "50%           3.000000     4.000000          4.000000          3.000000   \n",
       "75%           4.000000     5.000000          5.000000          4.000000   \n",
       "max           5.000000     5.000000          5.000000          5.000000   \n",
       "\n",
       "       Friends versus money    Funniness         Fake  Criminal damage  \\\n",
       "count           1004.000000  1006.000000  1009.000000      1003.000000   \n",
       "mean               3.778884     3.293241     2.130823         2.604187   \n",
       "std                1.124774     1.128771     1.046883         1.504439   \n",
       "min                1.000000     1.000000     1.000000         1.000000   \n",
       "25%                3.000000     3.000000     1.000000         1.000000   \n",
       "50%                4.000000     3.000000     2.000000         2.000000   \n",
       "75%                5.000000     4.000000     3.000000         4.000000   \n",
       "max                5.000000     5.000000     5.000000         5.000000   \n",
       "\n",
       "       Decision making    Elections  Self-criticism  Judgment calls  \\\n",
       "count      1006.000000  1007.000000     1005.000000     1006.000000   \n",
       "mean          3.197813     3.415094        3.579104        3.987078   \n",
       "std           1.201009     1.574679        1.193008        0.971654   \n",
       "min           1.000000     1.000000        1.000000        1.000000   \n",
       "25%           2.000000     2.000000        3.000000        3.000000   \n",
       "50%           3.000000     4.000000        4.000000        4.000000   \n",
       "75%           4.000000     5.000000        5.000000        5.000000   \n",
       "max           5.000000     5.000000        5.000000        5.000000   \n",
       "\n",
       "       Hypochondria      Empathy  Eating to survive       Giving  \\\n",
       "count   1006.000000  1005.000000        1010.000000  1004.000000   \n",
       "mean       1.912525     3.858706           2.228713     2.976096   \n",
       "std        1.157413     1.131730           1.214452     1.309306   \n",
       "min        1.000000     1.000000           1.000000     1.000000   \n",
       "25%        1.000000     3.000000           1.000000     2.000000   \n",
       "50%        1.000000     4.000000           2.000000     3.000000   \n",
       "75%        3.000000     5.000000           3.000000     4.000000   \n",
       "max        5.000000     5.000000           5.000000     5.000000   \n",
       "\n",
       "       Compassion to animals  Borrowed stuff   Loneliness  Cheating in school  \\\n",
       "count            1003.000000     1008.000000  1009.000000         1006.000000   \n",
       "mean                3.971087        4.017857     2.887017            3.744533   \n",
       "std                 1.189677        1.052579     1.131757            1.253590   \n",
       "min                 1.000000        1.000000     1.000000            1.000000   \n",
       "25%                 3.000000        3.000000     2.000000            3.000000   \n",
       "50%                 4.000000        4.000000     3.000000            4.000000   \n",
       "75%                 5.000000        5.000000     4.000000            5.000000   \n",
       "max                 5.000000        5.000000     5.000000            5.000000   \n",
       "\n",
       "            Health  Changing the past          God       Dreams      Charity  \\\n",
       "count  1009.000000        1008.000000  1008.000000  1010.000000  1007.000000   \n",
       "mean      3.250743           2.952381     3.302579     3.297030     2.104270   \n",
       "std       1.075319           1.278387     1.483010     0.683148     1.031344   \n",
       "min       1.000000           1.000000     1.000000     1.000000     1.000000   \n",
       "25%       3.000000           2.000000     2.000000     3.000000     1.000000   \n",
       "50%       3.000000           3.000000     3.000000     3.000000     2.000000   \n",
       "75%       4.000000           4.000000     5.000000     4.000000     3.000000   \n",
       "max       5.000000           5.000000     5.000000     5.000000     5.000000   \n",
       "\n",
       "       Number of friends      Waiting  New environment  Mood swings  \\\n",
       "count        1010.000000  1007.000000      1008.000000  1006.000000   \n",
       "mean            3.343564     2.672294         3.475198     3.258449   \n",
       "std             1.055348     1.002907         1.152425     1.044675   \n",
       "min             1.000000     1.000000         1.000000     1.000000   \n",
       "25%             3.000000     2.000000         3.000000     3.000000   \n",
       "50%             3.000000     3.000000         4.000000     3.000000   \n",
       "75%             4.000000     3.000000         4.000000     4.000000   \n",
       "max             5.000000     5.000000         5.000000     5.000000   \n",
       "\n",
       "       Appearence and gestures  Socializing  Achievements  \\\n",
       "count              1007.000000  1005.000000   1008.000000   \n",
       "mean                  3.597815     3.158209      2.963294   \n",
       "std                   0.943806     1.093190      0.935689   \n",
       "min                   1.000000     1.000000      1.000000   \n",
       "25%                   3.000000     2.000000      2.000000   \n",
       "50%                   4.000000     3.000000      3.000000   \n",
       "75%                   4.000000     4.000000      4.000000   \n",
       "max                   5.000000     5.000000      5.000000   \n",
       "\n",
       "       Responding to a serious letter     Children  Assertiveness  \\\n",
       "count                     1004.000000  1006.000000    1008.000000   \n",
       "mean                         3.070717     3.621272       3.518849   \n",
       "std                          1.172117     1.120903       1.103233   \n",
       "min                          1.000000     1.000000       1.000000   \n",
       "25%                          2.000000     3.000000       3.000000   \n",
       "50%                          3.000000     4.000000       4.000000   \n",
       "75%                          4.000000     5.000000       4.000000   \n",
       "max                          5.000000     5.000000       5.000000   \n",
       "\n",
       "       Getting angry  Knowing the right people  Public speaking  Unpopularity  \\\n",
       "count    1006.000000               1008.000000      1008.000000   1007.000000   \n",
       "mean        3.014911                  3.486111         3.521825      3.461768   \n",
       "std         1.173834                  1.092452         1.268173      1.118380   \n",
       "min         1.000000                  1.000000         1.000000      1.000000   \n",
       "25%         2.000000                  3.000000         3.000000      3.000000   \n",
       "50%         3.000000                  4.000000         4.000000      3.000000   \n",
       "75%         4.000000                  4.000000         5.000000      4.000000   \n",
       "max         5.000000                  5.000000         5.000000      5.000000   \n",
       "\n",
       "       Life struggles  Happiness in life  Energy levels  Small - big dogs  \\\n",
       "count     1007.000000        1006.000000    1005.000000       1006.000000   \n",
       "mean         3.031778           3.705765       3.633831          2.973161   \n",
       "std          1.374644           0.824323       1.001617          1.222621   \n",
       "min          1.000000           1.000000       1.000000          1.000000   \n",
       "25%          2.000000           3.000000       3.000000          2.000000   \n",
       "50%          3.000000           4.000000       4.000000          3.000000   \n",
       "75%          4.000000           4.000000       4.000000          4.000000   \n",
       "max          5.000000           5.000000       5.000000          5.000000   \n",
       "\n",
       "       Personality  Finding lost valuables   Getting up  Interests or hobbies  \\\n",
       "count  1006.000000             1006.000000  1005.000000           1007.000000   \n",
       "mean      3.292247                2.871769     3.592040              3.551142   \n",
       "std       0.643436                1.243674     1.309913              1.170850   \n",
       "min       1.000000                1.000000     1.000000              1.000000   \n",
       "25%       3.000000                2.000000     3.000000              3.000000   \n",
       "50%       3.000000                3.000000     4.000000              4.000000   \n",
       "75%       4.000000                4.000000     5.000000              5.000000   \n",
       "max       5.000000                5.000000     5.000000              5.000000   \n",
       "\n",
       "       Parents' advice  Questionnaires or polls     Finances  \\\n",
       "count      1008.000000              1006.000000  1007.000000   \n",
       "mean          3.265873                 2.748509     3.023833   \n",
       "std           0.865736                 1.101502     1.144365   \n",
       "min           1.000000                 1.000000     1.000000   \n",
       "25%           3.000000                 2.000000     2.000000   \n",
       "50%           3.000000                 3.000000     3.000000   \n",
       "75%           4.000000                 3.000000     4.000000   \n",
       "max           5.000000                 5.000000     5.000000   \n",
       "\n",
       "       Shopping centres  Branded clothing  Entertainment spending  \\\n",
       "count       1008.000000       1008.000000             1007.000000   \n",
       "mean           3.234127          3.050595                3.201589   \n",
       "std            1.323062          1.306321                1.188947   \n",
       "min            1.000000          1.000000                1.000000   \n",
       "25%            2.000000          2.000000                2.000000   \n",
       "50%            3.000000          3.000000                3.000000   \n",
       "75%            4.000000          4.000000                4.000000   \n",
       "max            5.000000          5.000000                5.000000   \n",
       "\n",
       "       Spending on looks  Spending on gadgets  Spending on healthy eating  \\\n",
       "count        1007.000000          1010.000000                  1008.00000   \n",
       "mean            3.106256             2.870297                     3.55754   \n",
       "std             1.205368             1.284970                     1.09375   \n",
       "min             1.000000             1.000000                     1.00000   \n",
       "25%             2.000000             2.000000                     3.00000   \n",
       "50%             3.000000             3.000000                     4.00000   \n",
       "75%             4.000000             4.000000                     4.00000   \n",
       "max             5.000000             5.000000                     5.00000   \n",
       "\n",
       "               Age      Height      Weight  Number of siblings  \n",
       "count  1003.000000  990.000000  990.000000         1004.000000  \n",
       "mean     20.433699  173.514141   66.405051            1.297809  \n",
       "std       2.828840   10.024505   13.839561            1.013348  \n",
       "min      15.000000   62.000000   41.000000            0.000000  \n",
       "25%      19.000000  167.000000   55.000000            1.000000  \n",
       "50%      20.000000  173.000000   64.000000            1.000000  \n",
       "75%      22.000000  180.000000   75.000000            2.000000  \n",
       "max      30.000000  203.000000  165.000000           10.000000  "
      ]
     },
     "execution_count": 204,
     "metadata": {},
     "output_type": "execute_result"
    }
   ],
   "source": [
    "raw_data.describe()"
   ]
  },
  {
   "cell_type": "markdown",
   "metadata": {},
   "source": [
    "\n",
    "## Data preparation"
   ]
  },
  {
   "cell_type": "markdown",
   "metadata": {},
   "source": [
    "#### The dataset consist of categorical variables/columns with specific responses in the form of string value. The categorical values are assigned numerical values for Machine learning"
   ]
  },
  {
   "cell_type": "code",
   "execution_count": 205,
   "metadata": {
    "collapsed": true
   },
   "outputs": [],
   "source": [
    "#formatting string data for modeling\n",
    "raw_data['Gender'] = pd.get_dummies(raw_data['Gender'])\n",
    "raw_data['Left - right handed']  = pd.get_dummies(raw_data['Left - right handed'])\n",
    "raw_data['Only child'] = pd.get_dummies(raw_data['Only child'])\n",
    "raw_data['Village - town'] = pd.get_dummies(raw_data['Village - town'])\n",
    "raw_data['House - block of flats'] = pd.get_dummies(raw_data['House - block of flats'])\n",
    "raw_data['Education'] = pd.get_dummies(raw_data['Education'])\n",
    "raw_data['Internet usage'] = pd.get_dummies(raw_data['Internet usage'])\n",
    "raw_data['Punctuality'] = pd.get_dummies(raw_data['Punctuality'])\n",
    "raw_data['Lying'] = pd.get_dummies(raw_data['Lying'])\n",
    "raw_data['Smoking'] = pd.get_dummies(raw_data['Smoking'])\n",
    "raw_data['Alcohol'] = pd.get_dummies(raw_data['Alcohol'])\n"
   ]
  },
  {
   "cell_type": "markdown",
   "metadata": {},
   "source": [
    "Checking for null values and preprocessing data before running analysis "
   ]
  },
  {
   "cell_type": "code",
   "execution_count": 206,
   "metadata": {
    "scrolled": true
   },
   "outputs": [
    {
     "data": {
      "text/plain": [
       "Music                          3\n",
       "Slow songs or fast songs       2\n",
       "Dance                          4\n",
       "Folk                           5\n",
       "Country                        5\n",
       "Classical music                7\n",
       "Musical                        2\n",
       "Pop                            3\n",
       "Rock                           6\n",
       "Metal or Hardrock              3\n",
       "Punk                           8\n",
       "Hiphop, Rap                    4\n",
       "Reggae, Ska                    7\n",
       "Swing, Jazz                    6\n",
       "Rock n roll                    7\n",
       "Alternative                    7\n",
       "Latino                         8\n",
       "Techno, Trance                 7\n",
       "Opera                          1\n",
       "Movies                         6\n",
       "Horror                         2\n",
       "Thriller                       1\n",
       "Comedy                         3\n",
       "Romantic                       3\n",
       "Sci-fi                         2\n",
       "War                            2\n",
       "Fantasy/Fairy tales            3\n",
       "Animated                       3\n",
       "Documentary                    8\n",
       "Western                        4\n",
       "                              ..\n",
       "Public speaking                2\n",
       "Unpopularity                   3\n",
       "Life struggles                 3\n",
       "Happiness in life              4\n",
       "Energy levels                  5\n",
       "Small - big dogs               4\n",
       "Personality                    4\n",
       "Finding lost valuables         4\n",
       "Getting up                     5\n",
       "Interests or hobbies           3\n",
       "Parents' advice                2\n",
       "Questionnaires or polls        4\n",
       "Internet usage                 0\n",
       "Finances                       3\n",
       "Shopping centres               2\n",
       "Branded clothing               2\n",
       "Entertainment spending         3\n",
       "Spending on looks              3\n",
       "Spending on gadgets            0\n",
       "Spending on healthy eating     2\n",
       "Age                            7\n",
       "Height                        20\n",
       "Weight                        20\n",
       "Number of siblings             6\n",
       "Gender                         0\n",
       "Left - right handed            0\n",
       "Education                      0\n",
       "Only child                     0\n",
       "Village - town                 0\n",
       "House - block of flats         0\n",
       "Length: 150, dtype: int64"
      ]
     },
     "execution_count": 206,
     "metadata": {},
     "output_type": "execute_result"
    }
   ],
   "source": [
    "raw_data.isnull().sum()"
   ]
  },
  {
   "cell_type": "markdown",
   "metadata": {},
   "source": [
    "Replacing the null values in the dataset with median value of the column"
   ]
  },
  {
   "cell_type": "code",
   "execution_count": 207,
   "metadata": {
    "collapsed": true
   },
   "outputs": [],
   "source": [
    "data = pd.DataFrame()\n",
    "for names in raw_data.columns:\n",
    "    data[names] = raw_data[names].fillna(raw_data[names].median())"
   ]
  },
  {
   "cell_type": "code",
   "execution_count": 208,
   "metadata": {
    "scrolled": true
   },
   "outputs": [
    {
     "data": {
      "text/plain": [
       "Music                          3\n",
       "Slow songs or fast songs       2\n",
       "Dance                          4\n",
       "Folk                           5\n",
       "Country                        5\n",
       "Classical music                7\n",
       "Musical                        2\n",
       "Pop                            3\n",
       "Rock                           6\n",
       "Metal or Hardrock              3\n",
       "Punk                           8\n",
       "Hiphop, Rap                    4\n",
       "Reggae, Ska                    7\n",
       "Swing, Jazz                    6\n",
       "Rock n roll                    7\n",
       "Alternative                    7\n",
       "Latino                         8\n",
       "Techno, Trance                 7\n",
       "Opera                          1\n",
       "Movies                         6\n",
       "Horror                         2\n",
       "Thriller                       1\n",
       "Comedy                         3\n",
       "Romantic                       3\n",
       "Sci-fi                         2\n",
       "War                            2\n",
       "Fantasy/Fairy tales            3\n",
       "Animated                       3\n",
       "Documentary                    8\n",
       "Western                        4\n",
       "                              ..\n",
       "Public speaking                2\n",
       "Unpopularity                   3\n",
       "Life struggles                 3\n",
       "Happiness in life              4\n",
       "Energy levels                  5\n",
       "Small - big dogs               4\n",
       "Personality                    4\n",
       "Finding lost valuables         4\n",
       "Getting up                     5\n",
       "Interests or hobbies           3\n",
       "Parents' advice                2\n",
       "Questionnaires or polls        4\n",
       "Internet usage                 0\n",
       "Finances                       3\n",
       "Shopping centres               2\n",
       "Branded clothing               2\n",
       "Entertainment spending         3\n",
       "Spending on looks              3\n",
       "Spending on gadgets            0\n",
       "Spending on healthy eating     2\n",
       "Age                            7\n",
       "Height                        20\n",
       "Weight                        20\n",
       "Number of siblings             6\n",
       "Gender                         0\n",
       "Left - right handed            0\n",
       "Education                      0\n",
       "Only child                     0\n",
       "Village - town                 0\n",
       "House - block of flats         0\n",
       "Length: 150, dtype: int64"
      ]
     },
     "execution_count": 208,
     "metadata": {},
     "output_type": "execute_result"
    }
   ],
   "source": [
    "raw_data.isnull().sum()"
   ]
  },
  {
   "cell_type": "markdown",
   "metadata": {},
   "source": [
    "The dataset has 150 columns. Spliting the dataset into different groups for further analysis.\n",
    "The grouped columns under a Pands Dataframe can then be used according to the interest of analysis."
   ]
  },
  {
   "cell_type": "markdown",
   "metadata": {},
   "source": [
    "The dataset is split into following groups :\n",
    "    1. Demograpgh(demograph)\n",
    "    2. Personal information(person_info)\n",
    "    3. Music intererest(music)\n",
    "    4. Movies(movies)\n",
    "    5. Hobbies and Interests(hoby_inter)\n",
    "    6. Phobia(phobia)\n",
    "    7. Healthy habits(health_habit)\n",
    "    8.Personality traits, views on life, & opinions(personality)\n",
    "    9.Spending habits(spending)"
   ]
  },
  {
   "cell_type": "code",
   "execution_count": 209,
   "metadata": {
    "collapsed": true
   },
   "outputs": [],
   "source": [
    "demograph = data[[\"Age\",\"Height\",\"Weight\",\"Gender\"]].copy()"
   ]
  },
  {
   "cell_type": "code",
   "execution_count": 210,
   "metadata": {
    "collapsed": true
   },
   "outputs": [],
   "source": [
    "person_info = data[[\"Number of siblings\", \"Gender\", \"Left - right handed\", \"Education\",\n",
    "                        \"Only child\", \"Village - town\",\"House - block of flats\"]].copy()"
   ]
  },
  {
   "cell_type": "code",
   "execution_count": 211,
   "metadata": {
    "collapsed": true
   },
   "outputs": [],
   "source": [
    "music = data[[\"Music\",\"Slow songs or fast songs\", \"Dance\", \"Folk\",\"Country\",\"Classical music\",\"Musical\",\n",
    "                    \"Pop\", \"Rock\", \"Metal or Hardrock\",\"Punk\",\"Hiphop, Rap\",\"Reggae, Ska\",\"Swing, Jazz\",\n",
    "                    \"Rock n roll\", \"Alternative\", \"Latino\", \"Techno, Trance\", \"Opera\"]].copy()"
   ]
  },
  {
   "cell_type": "code",
   "execution_count": 212,
   "metadata": {
    "collapsed": true
   },
   "outputs": [],
   "source": [
    "movies = data[[\"Movies\", \"Horror\", \"Thriller\", \"Comedy\", \"Romantic\", \"Sci-fi\",\n",
    "                    \"War\", \"Fantasy/Fairy tales\",\"Animated\",\"Documentary\",\"Western\", \"Action\"]].copy()"
   ]
  },
  {
   "cell_type": "code",
   "execution_count": 213,
   "metadata": {
    "collapsed": true
   },
   "outputs": [],
   "source": [
    "hoby_inter = data.loc[:, \"History\":\"Pets\"].copy()"
   ]
  },
  {
   "cell_type": "code",
   "execution_count": 214,
   "metadata": {
    "collapsed": true
   },
   "outputs": [],
   "source": [
    "phobia= data.loc[:, \"Flying\":\"Fear of public speaking\"].copy()"
   ]
  },
  {
   "cell_type": "code",
   "execution_count": 215,
   "metadata": {
    "collapsed": true
   },
   "outputs": [],
   "source": [
    "health_habit = data[[\"Smoking\",\"Alcohol\",\"Healthy eating\"]].copy()"
   ]
  },
  {
   "cell_type": "code",
   "execution_count": 216,
   "metadata": {
    "collapsed": true
   },
   "outputs": [],
   "source": [
    "personality = data.loc[:, \"Daily events\":\"Internet usage\"].copy()"
   ]
  },
  {
   "cell_type": "code",
   "execution_count": 217,
   "metadata": {
    "collapsed": true
   },
   "outputs": [],
   "source": [
    "spending = data.loc[:, \"Finances\":\"Spending on healthy eating\"].copy()"
   ]
  },
  {
   "cell_type": "markdown",
   "metadata": {},
   "source": [
    "### Correlation analysis"
   ]
  },
  {
   "cell_type": "markdown",
   "metadata": {},
   "source": [
    "Finding correlation data will help to decide the groups that will be most usefull in prediction algorithms.\n"
   ]
  },
  {
   "cell_type": "markdown",
   "metadata": {},
   "source": [
    "Correlation between music preferences, gender, and age. The correlation coefficients are stacked and arranged in the descending order. The heat map following the stack aids to understand the correalation between data."
   ]
  },
  {
   "cell_type": "code",
   "execution_count": 218,
   "metadata": {
    "collapsed": true
   },
   "outputs": [],
   "source": [
    "gender_age_music = data[[\"Gender\", \"Age\"]].copy()\n",
    "gender_age_music = gender_age_music.join([music])\n",
    "corr = gender_age_music.corr()"
   ]
  },
  {
   "cell_type": "code",
   "execution_count": 219,
   "metadata": {
    "scrolled": true
   },
   "outputs": [
    {
     "data": {
      "text/plain": [
       "Text(0.5,1,'Music preferences')"
      ]
     },
     "execution_count": 219,
     "metadata": {},
     "output_type": "execute_result"
    },
    {
     "data": {
      "image/png": "[encoded data removed]",
      "text/plain": [
       "<matplotlib.figure.Figure at 0x1c23a3d7080>"
      ]
     },
     "metadata": {},
     "output_type": "display_data"
    }
   ],
   "source": [
    "plt.figure(figsize=(15, 15))\n",
    "sns.heatmap(corr, annot=True)\n",
    "plt.title('Music preferences')"
   ]
  },
  {
   "cell_type": "code",
   "execution_count": 220,
   "metadata": {
    "scrolled": true
   },
   "outputs": [
    {
     "name": "stdout",
     "output_type": "stream",
     "text": [
      "Classical music    Opera                0.593821\n",
      "Metal or Hardrock  Punk                 0.543174\n",
      "Rock               Metal or Hardrock    0.522569\n",
      "                   Punk                 0.506675\n",
      "                   Rock n roll          0.471190\n",
      "Swing, Jazz        Rock n roll          0.465791\n",
      "Dance              Techno, Trance       0.438131\n",
      "                   Pop                  0.431504\n",
      "Classical music    Swing, Jazz          0.428861\n",
      "Musical            Opera                0.415834\n",
      "Rock n roll        Alternative          0.399434\n",
      "Folk               Country              0.384635\n",
      "Musical            Latino               0.372047\n",
      "Dance              Hiphop, Rap          0.371448\n",
      "Folk               Classical music      0.368695\n",
      "                   Opera                0.359286\n",
      "Reggae, Ska        Swing, Jazz          0.353088\n",
      "Classical music    Musical              0.348918\n",
      "Rock               Alternative          0.348206\n",
      "Punk               Alternative          0.344925\n",
      "dtype: float64\n",
      "\n",
      "\n",
      "Hiphop, Rap        Opera               -0.160676\n",
      "Classical music    Hiphop, Rap         -0.160724\n",
      "Hiphop, Rap        Alternative         -0.164165\n",
      "Gender             Techno, Trance      -0.168640\n",
      "                   Metal or Hardrock   -0.174204\n",
      "Rock               Hiphop, Rap         -0.199361\n",
      "Metal or Hardrock  Hiphop, Rap         -0.201414\n",
      "Pop                Alternative         -0.209107\n",
      "Dance              Metal or Hardrock   -0.233313\n",
      "Pop                Metal or Hardrock   -0.281196\n",
      "dtype: float64\n"
     ]
    }
   ],
   "source": [
    "observe_music = (corr.where(np.triu(np.ones(corr.shape), k=1).astype(np.bool))\n",
    "                 .stack()\n",
    "                 .sort_values(ascending=False))\n",
    "print(observe_music.head(20))\n",
    "print(\"\\n\")\n",
    "print(observe_music.tail(10))"
   ]
  },
  {
   "cell_type": "markdown",
   "metadata": {},
   "source": [
    "Following observation can be made from the correlation values :\n",
    "\n",
    "- People who like classical music also like listening to Opera\n",
    "- Similarly there is some assosiation between Rock, Punck, and Metal\n",
    "- The relationship between the variables on interest 'Gender' is feable and is between Techno and Metal"
   ]
  },
  {
   "cell_type": "markdown",
   "metadata": {},
   "source": [
    "##### Correlation between spending habits, gender and age"
   ]
  },
  {
   "cell_type": "code",
   "execution_count": 221,
   "metadata": {
    "collapsed": true,
    "scrolled": true
   },
   "outputs": [],
   "source": [
    "gender_age_spending = data[[\"Gender\", \"Age\"]].copy()\n",
    "gender_age_spending = gender_age_spending.join([spending])\n",
    "corr_spending = gender_age_spending.corr()"
   ]
  },
  {
   "cell_type": "code",
   "execution_count": 222,
   "metadata": {
    "scrolled": true
   },
   "outputs": [
    {
     "data": {
      "text/plain": [
       "<matplotlib.axes._subplots.AxesSubplot at 0x1c23aa0a7f0>"
      ]
     },
     "execution_count": 222,
     "metadata": {},
     "output_type": "execute_result"
    },
    {
     "data": {
      "image/png": "[encoded data removed]",
      "text/plain": [
       "<matplotlib.figure.Figure at 0x1c23aa63978>"
      ]
     },
     "metadata": {},
     "output_type": "display_data"
    }
   ],
   "source": [
    "plt.figure(figsize=(15, 15))\n",
    "sns.heatmap(corr_spending, annot=True)"
   ]
  },
  {
   "cell_type": "code",
   "execution_count": 223,
   "metadata": {
    "scrolled": true
   },
   "outputs": [
    {
     "name": "stdout",
     "output_type": "stream",
     "text": [
      "Shopping centres        Spending on looks             0.487785\n",
      "Branded clothing        Spending on looks             0.416188\n",
      "Entertainment spending  Spending on looks             0.401925\n",
      "Shopping centres        Branded clothing              0.360864\n",
      "Branded clothing        Spending on gadgets           0.352606\n",
      "                        Entertainment spending        0.337584\n",
      "Entertainment spending  Spending on gadgets           0.336085\n",
      "Spending on looks       Spending on gadgets           0.333790\n",
      "                        Spending on healthy eating    0.235274\n",
      "Spending on gadgets     Spending on healthy eating    0.234421\n",
      "Branded clothing        Spending on healthy eating    0.173396\n",
      "Gender                  Shopping centres              0.168102\n",
      "Shopping centres        Spending on gadgets           0.155571\n",
      "Entertainment spending  Spending on healthy eating    0.143333\n",
      "Shopping centres        Entertainment spending        0.131721\n",
      "Gender                  Spending on looks             0.123997\n",
      "Shopping centres        Spending on healthy eating    0.104434\n",
      "Gender                  Finances                      0.063227\n",
      "Age                     Finances                      0.030046\n",
      "                        Spending on healthy eating    0.013539\n",
      "dtype: float64\n",
      "\n",
      "\n",
      "Age       Spending on looks        -0.071876\n",
      "Finances  Spending on gadgets      -0.097122\n",
      "          Branded clothing         -0.129076\n",
      "Age       Shopping centres         -0.132884\n",
      "Gender    Age                      -0.134453\n",
      "          Branded clothing         -0.169500\n",
      "          Entertainment spending   -0.178257\n",
      "Finances  Spending on looks        -0.205771\n",
      "Gender    Spending on gadgets      -0.267881\n",
      "Finances  Entertainment spending   -0.297209\n",
      "dtype: float64\n"
     ]
    }
   ],
   "source": [
    "observe_spending = (corr_spending.where(np.triu(np.ones(corr_spending.shape), k=1).astype(np.bool))\n",
    "                 .stack()\n",
    "                 .sort_values(ascending=False))\n",
    "print(observe_spending.head(20))\n",
    "print(\"\\n\")\n",
    "print(observe_spending.tail(10))"
   ]
  },
  {
   "cell_type": "markdown",
   "metadata": {},
   "source": [
    "As seen from the correlation values \n",
    "- People spending on looks like to also spend on buying branded clothing, entertaintment and shopping centres\n",
    "- Gender based spending habits can only be seen in columns spending on looks, branded clothing and entertaintment"
   ]
  },
  {
   "cell_type": "markdown",
   "metadata": {},
   "source": [
    "##### Correlation between Movies , Gender aand age"
   ]
  },
  {
   "cell_type": "code",
   "execution_count": 224,
   "metadata": {
    "collapsed": true,
    "scrolled": true
   },
   "outputs": [],
   "source": [
    "movies_gender_age = movies.join([data[\"Gender\"],data[\"Age\"]])\n",
    "corr_movies = movies_gender_age.corr()\n"
   ]
  },
  {
   "cell_type": "code",
   "execution_count": 225,
   "metadata": {
    "scrolled": true
   },
   "outputs": [
    {
     "data": {
      "text/plain": [
       "<matplotlib.axes._subplots.AxesSubplot at 0x1c23ad6d8d0>"
      ]
     },
     "execution_count": 225,
     "metadata": {},
     "output_type": "execute_result"
    },
    {
     "data": {
      "image/png": "[encoded data removed]",
      "text/plain": [
       "<matplotlib.figure.Figure at 0x1c23ace8da0>"
      ]
     },
     "metadata": {},
     "output_type": "display_data"
    }
   ],
   "source": [
    "plt.figure(figsize=(15, 15))\n",
    "sns.heatmap(corr_movies, annot=True)"
   ]
  },
  {
   "cell_type": "code",
   "execution_count": 226,
   "metadata": {
    "scrolled": true
   },
   "outputs": [
    {
     "name": "stdout",
     "output_type": "stream",
     "text": [
      "Fantasy/Fairy tales  Animated               0.673745\n",
      "Horror               Thriller               0.504835\n",
      "Romantic             Gender                 0.436006\n",
      "War                  Western                0.397073\n",
      "Sci-fi               Action                 0.360460\n",
      "Romantic             Fantasy/Fairy tales    0.346052\n",
      "Western              Action                 0.318275\n",
      "War                  Action                 0.301214\n",
      "Fantasy/Fairy tales  Gender                 0.289765\n",
      "Comedy               Romantic               0.283225\n",
      "Thriller             Action                 0.281044\n",
      "Sci-fi               Western                0.277930\n",
      "                     War                    0.275253\n",
      "Documentary          Western                0.260940\n",
      "Movies               Thriller               0.245984\n",
      "War                  Documentary            0.235531\n",
      "Romantic             Animated               0.234875\n",
      "Thriller             Sci-fi                 0.233777\n",
      "                     War                    0.221620\n",
      "Comedy               Fantasy/Fairy tales    0.213435\n",
      "dtype: float64\n",
      "\n",
      "\n",
      "Gender    Age        -0.134453\n",
      "Horror    Gender     -0.156819\n",
      "Thriller  Romantic   -0.160687\n",
      "Romantic  Action     -0.180461\n",
      "Thriller  Gender     -0.182807\n",
      "Romantic  War        -0.192537\n",
      "Sci-fi    Gender     -0.306926\n",
      "Western   Gender     -0.355094\n",
      "War       Gender     -0.405066\n",
      "Action    Gender     -0.406956\n",
      "dtype: float64\n"
     ]
    }
   ],
   "source": [
    "observe_movies = (corr_movies.where(np.triu(np.ones(corr_movies.shape), k=1).astype(np.bool))\n",
    "                 .stack()\n",
    "                 .sort_values(ascending=False))\n",
    "# print(observe_music)\n",
    "print(observe_movies.head(20))\n",
    "print(\"\\n\")\n",
    "# observe_music.sort_values(ascending=True)\n",
    "print(observe_movies.tail(10))"
   ]
  },
  {
   "cell_type": "markdown",
   "metadata": {},
   "source": [
    "Following inference can be drawn from the correlation values :\n",
    "- There is a strong association between movies with similar genre (Fantasy/Fairy tales and Animated , Horror and Thriller etc)\n",
    "- Gender has association between Romantic, Sci-fi, Western, War, Action movies\n",
    "- Women like more Romatic movies as compared to men. Men like Sci-fi, Action, War movies"
   ]
  },
  {
   "cell_type": "markdown",
   "metadata": {},
   "source": [
    "Correlation between between hobbies and interestes, Gender, Age, Education"
   ]
  },
  {
   "cell_type": "code",
   "execution_count": 227,
   "metadata": {
    "scrolled": true
   },
   "outputs": [
    {
     "name": "stdout",
     "output_type": "stream",
     "text": [
      "Biology             Medicine                  0.684997\n",
      "                    Chemistry                 0.650752\n",
      "Mathematics         Physics                   0.581235\n",
      "Chemistry           Medicine                  0.569343\n",
      "Art exhibitions     Theatre                   0.530306\n",
      "Celebrities         Shopping                  0.478777\n",
      "Reading             Theatre                   0.472711\n",
      "Internet            PC                        0.461082\n",
      "Politics            Law                       0.438113\n",
      "PC                  Science and technology    0.426047\n",
      "Active sport        Adrenaline sports         0.410608\n",
      "Physics             Science and technology    0.407418\n",
      "History             Politics                  0.393006\n",
      "Shopping            Gender                    0.384303\n",
      "PC                  Cars                      0.379326\n",
      "Reading             Art exhibitions           0.377518\n",
      "Art exhibitions     Writing                   0.365819\n",
      "Economy Management  Law                       0.364001\n",
      "Physics             Chemistry                 0.362908\n",
      "Reading             Gender                    0.361413\n",
      "dtype: float64\n",
      "Cars                    Theatre       -0.181748\n",
      "Active sport            Gender        -0.201535\n",
      "PC                      Reading       -0.209774\n",
      "Physics                 Celebrities   -0.215777\n",
      "                        Shopping      -0.248239\n",
      "                        Gender        -0.287722\n",
      "Reading                 Cars          -0.300685\n",
      "Science and technology  Gender        -0.362819\n",
      "Cars                    Gender        -0.431182\n",
      "PC                      Gender        -0.459442\n",
      "dtype: float64\n"
     ]
    }
   ],
   "source": [
    "hoby_inter_gender = hoby_inter.join([data[\"Gender\"], data[\"Age\"], data[\"Education\"],data[\"Only child\"]])\n",
    "corr = hoby_inter_gender.corr(method='spearman')\n",
    "observe = (corr.where(np.triu(np.ones(corr.shape), k=1).astype(np.bool))\n",
    "                 .stack()\n",
    "                 .sort_values(ascending=False))\n",
    "print(observe.head(20))\n",
    "print(observe.tail(10))"
   ]
  },
  {
   "cell_type": "markdown",
   "metadata": {},
   "source": [
    "Following observation can be made from the values :\n",
    "- As the expeceted there is strong correlation between related fields of interest such as Biology and Medicine, Mathematics and Physics etc.\n",
    "- The Gender column is correlated with Shopping, Reading, Active Sport, Physics, Science and technology, Cars and PC"
   ]
  },
  {
   "cell_type": "markdown",
   "metadata": {},
   "source": [
    "##### Correlation between demographic information,age and  health habits"
   ]
  },
  {
   "cell_type": "code",
   "execution_count": 228,
   "metadata": {
    "scrolled": false
   },
   "outputs": [
    {
     "name": "stdout",
     "output_type": "stream",
     "text": [
      "Village - town          House - block of flats    0.590650\n",
      "Number of siblings      Only child                0.543146\n",
      "Smoking                 Alcohol                   0.223494\n",
      "Education               Age                       0.195807\n",
      "Only child              Age                       0.094935\n",
      "Village - town          Alcohol                   0.091826\n",
      "Number of siblings      Left - right handed       0.078355\n",
      "Left - right handed     Healthy eating            0.070833\n",
      "House - block of flats  Alcohol                   0.064233\n",
      "Gender                  Healthy eating            0.061033\n",
      "dtype: float64\n",
      "Education            House - block of flats   -0.038995\n",
      "Left - right handed  Alcohol                  -0.041442\n",
      "Only child           Village - town           -0.043709\n",
      "Gender               Left - right handed      -0.082450\n",
      "Alcohol              Healthy eating           -0.087900\n",
      "Number of siblings   House - block of flats   -0.096183\n",
      "                     Village - town           -0.109383\n",
      "Smoking              Healthy eating           -0.112187\n",
      "Gender               Alcohol                  -0.127922\n",
      "                     Age                      -0.158315\n",
      "dtype: float64\n"
     ]
    }
   ],
   "source": [
    "person_info_health_habit = person_info.join([data[\"Age\"],health_habit])\n",
    "corr1 = person_info_health_habit.corr(method='spearman')\n",
    "observe1 = (corr1.where(np.triu(np.ones(corr1.shape), k=1).astype(np.bool))\n",
    "                 .stack()\n",
    "                 .sort_values(ascending=False))\n",
    "print(observe1.head(10))\n",
    "print(observe1.tail(10))\n"
   ]
  },
  {
   "cell_type": "markdown",
   "metadata": {},
   "source": [
    "##### Correlation between demograph information and phobia"
   ]
  },
  {
   "cell_type": "code",
   "execution_count": 229,
   "metadata": {
    "scrolled": true
   },
   "outputs": [
    {
     "name": "stdout",
     "output_type": "stream",
     "text": [
      "Height              Weight                    0.749105\n",
      "Village - town      House - block of flats    0.590650\n",
      "Snakes              Rats                      0.573873\n",
      "Number of siblings  Only child                0.543146\n",
      "Storm               Darkness                  0.502042\n",
      "Spiders             Snakes                    0.440590\n",
      "Rats                Dangerous dogs            0.414729\n",
      "Snakes              Dangerous dogs            0.378280\n",
      "Spiders             Rats                      0.376880\n",
      "Flying              Storm                     0.353220\n",
      "Storm               Snakes                    0.337907\n",
      "Darkness            Spiders                   0.331535\n",
      "Gender              Spiders                   0.329032\n",
      "Storm               Rats                      0.323508\n",
      "Gender              Darkness                  0.317284\n",
      "                    Storm                     0.314442\n",
      "Darkness            Rats                      0.304857\n",
      "Storm               Dangerous dogs            0.297343\n",
      "Darkness            Heights                   0.294259\n",
      "Storm               Spiders                   0.288667\n",
      "dtype: float64\n",
      "Snakes          Weight   -0.183933\n",
      "Dangerous dogs  Height   -0.197206\n",
      "Spiders         Height   -0.209773\n",
      "Storm           Weight   -0.221350\n",
      "Darkness        Weight   -0.232796\n",
      "Storm           Height   -0.239153\n",
      "Spiders         Weight   -0.241382\n",
      "Darkness        Height   -0.254690\n",
      "Gender          Weight   -0.691668\n",
      "                Height   -0.724360\n",
      "dtype: float64\n"
     ]
    }
   ],
   "source": [
    "person_info_phobia=person_info.join([phobia, demograph.drop(\"Gender\", axis=1)])\n",
    "corr3 = person_info_phobia.corr(method='spearman')\n",
    "observe3 = (corr3.where(np.triu(np.ones(corr3.shape), k=1).astype(np.bool))\n",
    "                 .stack()\n",
    "                 .sort_values(ascending=False))\n",
    "print(observe3.head(20))\n",
    "print(observe3.tail(10))\n"
   ]
  },
  {
   "cell_type": "markdown",
   "metadata": {},
   "source": [
    "There little inference that can be drawn with respect to the Gender. Women tend to be more afraid of Darkness and Storm as  compared to men. "
   ]
  },
  {
   "cell_type": "markdown",
   "metadata": {},
   "source": [
    "##### As seen from the correlation data most of the correlationship exist between Gender and other data.\n",
    "##### Among the correlation values found, the highest values are between hobbies and movie preferences.\n",
    "##### Based on the correlation analysis of data, Machine learning algorithms can be used to make prediction of Gender with respect to Hobbies and interest, movie preferences. \n",
    "\n",
    "##### Will be using Logistic regression, Decison Trees, and Random Forest techinques for classification."
   ]
  },
  {
   "cell_type": "code",
   "execution_count": 230,
   "metadata": {
    "collapsed": true
   },
   "outputs": [],
   "source": [
    "from sklearn.metrics import recall_score, precision_score\n",
    "from sklearn.cross_validation import KFold, train_test_split, cross_val_score\n",
    "from sklearn.model_selection import GridSearchCV\n",
    "from sklearn.linear_model import LogisticRegression\n",
    "from sklearn.metrics import classification_report\n",
    "from sklearn.metrics import confusion_matrix\n",
    "from sklearn.preprocessing import StandardScaler"
   ]
  },
  {
   "cell_type": "markdown",
   "metadata": {},
   "source": [
    "## Logistic Regression"
   ]
  },
  {
   "cell_type": "markdown",
   "metadata": {},
   "source": [
    "1. Predictor variables the hobbies and interest columns"
   ]
  },
  {
   "cell_type": "code",
   "execution_count": 231,
   "metadata": {},
   "outputs": [
    {
     "name": "stdout",
     "output_type": "stream",
     "text": [
      "1010\n"
     ]
    }
   ],
   "source": [
    "# using hobies/interest\n",
    "X = hoby_inter.dropna()\n",
    "print(len(X))"
   ]
  },
  {
   "cell_type": "code",
   "execution_count": 232,
   "metadata": {},
   "outputs": [
    {
     "name": "stdout",
     "output_type": "stream",
     "text": [
      "1010\n"
     ]
    }
   ],
   "source": [
    "Y = raw_data[\"Gender\"].copy()\n",
    "print(len(Y))"
   ]
  },
  {
   "cell_type": "code",
   "execution_count": 233,
   "metadata": {
    "collapsed": true
   },
   "outputs": [],
   "source": [
    "x_train_log, x_test_log, y_train_log, y_test_log = train_test_split(X, Y, test_size=.33, random_state=100)"
   ]
  },
  {
   "cell_type": "code",
   "execution_count": 234,
   "metadata": {
    "collapsed": true
   },
   "outputs": [],
   "source": [
    "# We will standardize variables to be sure that everything is on whie scale as it plays quite an important role \n",
    "# in regularization as we will apply logistic regression.\n",
    "\n",
    "scaler = StandardScaler()\n",
    "scaler.fit(x_train_log)\n",
    "x_train_log=scaler.transform(x_train_log)\n",
    "x_test_log=scaler.transform(x_test_log)"
   ]
  },
  {
   "cell_type": "code",
   "execution_count": 235,
   "metadata": {
    "collapsed": true
   },
   "outputs": [],
   "source": [
    "logmodel = LogisticRegression()"
   ]
  },
  {
   "cell_type": "markdown",
   "metadata": {},
   "source": [
    "Will use the K fold cross validation along with grid search for parameter tuning.\n",
    "This will help to increase the presicion of logistic regression model.\n",
    "\n",
    "Grid search algorithm will give us best cost parameters(C) which will be passed to logistic regression model"
   ]
  },
  {
   "cell_type": "code",
   "execution_count": 236,
   "metadata": {
    "collapsed": true
   },
   "outputs": [],
   "source": [
    "KF = KFold(len(x_train_log), n_folds=8)\n",
    "param_grid = {'C':[.001,.01,.03,.1,.3,1,3,10]}"
   ]
  },
  {
   "cell_type": "code",
   "execution_count": 237,
   "metadata": {},
   "outputs": [
    {
     "data": {
      "text/plain": [
       "GridSearchCV(cv=sklearn.cross_validation.KFold(n=676, n_folds=8, shuffle=False, random_state=None),\n",
       "       error_score='raise',\n",
       "       estimator=LogisticRegression(C=1.0, class_weight=None, dual=False, fit_intercept=True,\n",
       "          intercept_scaling=1, max_iter=100, multi_class='ovr', n_jobs=1,\n",
       "          penalty='l2', random_state=None, solver='liblinear', tol=0.0001,\n",
       "          verbose=0, warm_start=False),\n",
       "       fit_params=None, iid=True, n_jobs=1,\n",
       "       param_grid={'C': [0.001, 0.01, 0.03, 0.1, 0.3, 1, 3, 10]},\n",
       "       pre_dispatch='2*n_jobs', refit=True, return_train_score='warn',\n",
       "       scoring='f1', verbose=0)"
      ]
     },
     "execution_count": 237,
     "metadata": {},
     "output_type": "execute_result"
    }
   ],
   "source": [
    "grid_search = GridSearchCV(logmodel, param_grid=param_grid, cv=KF, scoring = 'f1')\n",
    "grid_search.fit(x_train_log, y_train_log)"
   ]
  },
  {
   "cell_type": "code",
   "execution_count": 238,
   "metadata": {
    "collapsed": true
   },
   "outputs": [],
   "source": [
    "logmodel = LogisticRegression(C=grid_search.best_params_['C'])"
   ]
  },
  {
   "cell_type": "code",
   "execution_count": 239,
   "metadata": {},
   "outputs": [
    {
     "data": {
      "text/plain": [
       "LogisticRegression(C=0.1, class_weight=None, dual=False, fit_intercept=True,\n",
       "          intercept_scaling=1, max_iter=100, multi_class='ovr', n_jobs=1,\n",
       "          penalty='l2', random_state=None, solver='liblinear', tol=0.0001,\n",
       "          verbose=0, warm_start=False)"
      ]
     },
     "execution_count": 239,
     "metadata": {},
     "output_type": "execute_result"
    }
   ],
   "source": [
    "logmodel.fit(x_train_log, y_train_log)"
   ]
  },
  {
   "cell_type": "code",
   "execution_count": 240,
   "metadata": {
    "collapsed": true
   },
   "outputs": [],
   "source": [
    "predict_log = logmodel.predict(x_test_log)"
   ]
  },
  {
   "cell_type": "markdown",
   "metadata": {},
   "source": [
    "Using the classification report method we will be assesing the performance of the model"
   ]
  },
  {
   "cell_type": "code",
   "execution_count": 241,
   "metadata": {},
   "outputs": [
    {
     "name": "stdout",
     "output_type": "stream",
     "text": [
      "             precision    recall  f1-score   support\n",
      "\n",
      "          0       0.83      0.87      0.85       133\n",
      "          1       0.91      0.89      0.90       201\n",
      "\n",
      "avg / total       0.88      0.88      0.88       334\n",
      "\n"
     ]
    }
   ],
   "source": [
    "print(classification_report(y_test_log, predict_log))"
   ]
  },
  {
   "cell_type": "code",
   "execution_count": 242,
   "metadata": {},
   "outputs": [
    {
     "data": {
      "text/plain": [
       "array([[116,  17],\n",
       "       [ 22, 179]], dtype=int64)"
      ]
     },
     "execution_count": 242,
     "metadata": {},
     "output_type": "execute_result"
    }
   ],
   "source": [
    "confusion_matrix(y_test_log, predict)"
   ]
  },
  {
   "cell_type": "markdown",
   "metadata": {},
   "source": [
    "##### As seen in the classification report with the current logistic regreession model we are able to get a precision on 88%\n",
    "\n",
    "The parameters with highest coefficient values were as follows"
   ]
  },
  {
   "cell_type": "code",
   "execution_count": 243,
   "metadata": {
    "scrolled": true
   },
   "outputs": [
    {
     "data": {
      "text/html": [
       "<div>\n",
       "<style>\n",
       "    .dataframe thead tr:only-child th {\n",
       "        text-align: right;\n",
       "    }\n",
       "\n",
       "    .dataframe thead th {\n",
       "        text-align: left;\n",
       "    }\n",
       "\n",
       "    .dataframe tbody tr th {\n",
       "        vertical-align: top;\n",
       "    }\n",
       "</style>\n",
       "<table border=\"1\" class=\"dataframe\">\n",
       "  <thead>\n",
       "    <tr style=\"text-align: right;\">\n",
       "      <th></th>\n",
       "      <th>Coeff</th>\n",
       "      <th>Features</th>\n",
       "    </tr>\n",
       "  </thead>\n",
       "  <tbody>\n",
       "    <tr>\n",
       "      <th>6</th>\n",
       "      <td>-0.638887</td>\n",
       "      <td>PC</td>\n",
       "    </tr>\n",
       "    <tr>\n",
       "      <th>15</th>\n",
       "      <td>-0.620752</td>\n",
       "      <td>Cars</td>\n",
       "    </tr>\n",
       "    <tr>\n",
       "      <th>27</th>\n",
       "      <td>-0.448343</td>\n",
       "      <td>Science and technology</td>\n",
       "    </tr>\n",
       "    <tr>\n",
       "      <th>23</th>\n",
       "      <td>-0.402061</td>\n",
       "      <td>Active sport</td>\n",
       "    </tr>\n",
       "    <tr>\n",
       "      <th>0</th>\n",
       "      <td>-0.378820</td>\n",
       "      <td>History</td>\n",
       "    </tr>\n",
       "  </tbody>\n",
       "</table>\n",
       "</div>"
      ],
      "text/plain": [
       "       Coeff                Features\n",
       "6  -0.638887                      PC\n",
       "15 -0.620752                    Cars\n",
       "27 -0.448343  Science and technology\n",
       "23 -0.402061            Active sport\n",
       "0  -0.378820                 History"
      ]
     },
     "execution_count": 243,
     "metadata": {},
     "output_type": "execute_result"
    }
   ],
   "source": [
    "logmodel_coeff = pd.DataFrame({'Features': X.columns,'Coeff': logmodel.coef_[0]})\n",
    "logmodel_coeff.sort_values('Coeff',inplace=True)\n",
    "logmodel_coeff.head(5)           #top 5 negetive coefficients"
   ]
  },
  {
   "cell_type": "markdown",
   "metadata": {},
   "source": [
    "##### The negative coefficients suggest the coeffiients were more responsible for predicting the Gender as 'Men/Male'. \n",
    "##### The same can be verified by looking at the count plot for the top three features against Gender column in the original data set"
   ]
  },
  {
   "cell_type": "code",
   "execution_count": 244,
   "metadata": {},
   "outputs": [
    {
     "data": {
      "text/plain": [
       "<matplotlib.axes._subplots.AxesSubplot at 0x1c23c1ae400>"
      ]
     },
     "execution_count": 244,
     "metadata": {},
     "output_type": "execute_result"
    },
    {
     "data": {
      "image/png": "[encoded data removed]",
      "text/plain": [
       "<matplotlib.figure.Figure at 0x1c23c6e5470>"
      ]
     },
     "metadata": {},
     "output_type": "display_data"
    }
   ],
   "source": [
    "interest1 = data[[\"Gender\",\"PC\",\"Cars\",\"Science and technology\", \"History\", \"Active sport\"]].copy()\n",
    "fig, ax = plt.subplots(nrows = 1, ncols = 3,figsize=(15,5), sharex=True)\n",
    "sns.countplot(x=interest1[\"PC\"], hue=\"Gender\", data=interest1, ax=ax[0])\n",
    "sns.countplot(x=interest1[\"Cars\"], hue=\"Gender\", data=interest1, ax=ax[1])\n",
    "sns.countplot(x=interest1[\"Science and technology\"], hue=\"Gender\", data=interest1, ax=ax[2])"
   ]
  },
  {
   "cell_type": "code",
   "execution_count": 245,
   "metadata": {
    "scrolled": true
   },
   "outputs": [
    {
     "data": {
      "text/html": [
       "<div>\n",
       "<style>\n",
       "    .dataframe thead tr:only-child th {\n",
       "        text-align: right;\n",
       "    }\n",
       "\n",
       "    .dataframe thead th {\n",
       "        text-align: left;\n",
       "    }\n",
       "\n",
       "    .dataframe tbody tr th {\n",
       "        vertical-align: top;\n",
       "    }\n",
       "</style>\n",
       "<table border=\"1\" class=\"dataframe\">\n",
       "  <thead>\n",
       "    <tr style=\"text-align: right;\">\n",
       "      <th></th>\n",
       "      <th>Coeff</th>\n",
       "      <th>Features</th>\n",
       "    </tr>\n",
       "  </thead>\n",
       "  <tbody>\n",
       "    <tr>\n",
       "      <th>28</th>\n",
       "      <td>0.338805</td>\n",
       "      <td>Theatre</td>\n",
       "    </tr>\n",
       "    <tr>\n",
       "      <th>1</th>\n",
       "      <td>0.375209</td>\n",
       "      <td>Psychology</td>\n",
       "    </tr>\n",
       "    <tr>\n",
       "      <th>19</th>\n",
       "      <td>0.447841</td>\n",
       "      <td>Dancing</td>\n",
       "    </tr>\n",
       "    <tr>\n",
       "      <th>10</th>\n",
       "      <td>0.556623</td>\n",
       "      <td>Reading</td>\n",
       "    </tr>\n",
       "    <tr>\n",
       "      <th>26</th>\n",
       "      <td>0.619524</td>\n",
       "      <td>Shopping</td>\n",
       "    </tr>\n",
       "  </tbody>\n",
       "</table>\n",
       "</div>"
      ],
      "text/plain": [
       "       Coeff    Features\n",
       "28  0.338805     Theatre\n",
       "1   0.375209  Psychology\n",
       "19  0.447841     Dancing\n",
       "10  0.556623     Reading\n",
       "26  0.619524    Shopping"
      ]
     },
     "execution_count": 245,
     "metadata": {},
     "output_type": "execute_result"
    }
   ],
   "source": [
    "logmodel_coeff.tail(5)       # top 5 positive coefficients "
   ]
  },
  {
   "cell_type": "markdown",
   "metadata": {},
   "source": [
    "##### The negative coefficients suggest the coeffiients were more responsible for predicting the Gender as 'Women/Female'. \n",
    "##### The same can be verified by looking at the count plot for the top three features against Gender column in the original data set"
   ]
  },
  {
   "cell_type": "code",
   "execution_count": 246,
   "metadata": {
    "scrolled": true
   },
   "outputs": [
    {
     "data": {
      "text/plain": [
       "<matplotlib.axes._subplots.AxesSubplot at 0x1c23c2b89e8>"
      ]
     },
     "execution_count": 246,
     "metadata": {},
     "output_type": "execute_result"
    },
    {
     "data": {
      "image/png": "[encoded data removed]",
      "text/plain": [
       "<matplotlib.figure.Figure at 0x1c23c6e5438>"
      ]
     },
     "metadata": {},
     "output_type": "display_data"
    }
   ],
   "source": [
    "interest2 = raw_data[[\"Gender\",\"Celebrities\",\"Dancing\",\"Psychology\", \"Reading\", \"Shopping\"]].copy()\n",
    "fig, ax = plt.subplots(nrows = 1, ncols = 3,figsize=(15,5), sharex=True)\n",
    "sns.countplot(x=interest2[\"Shopping\"], hue=\"Gender\", data=interest2, ax=ax[0])\n",
    "sns.countplot(x=interest2[\"Reading\"], hue=\"Gender\", data=interest2, ax=ax[1])\n",
    "sns.countplot(x=interest2[\"Psychology\"], hue=\"Gender\", data=interest2, ax=ax[2])"
   ]
  },
  {
   "cell_type": "markdown",
   "metadata": {},
   "source": [
    "The presicion that can be achieved using the logistic regression is 85%.\n",
    "Other binary classification techinique is decision tree to which will be passing the same scaled test train data so to check if we get imporved presision  "
   ]
  },
  {
   "cell_type": "markdown",
   "metadata": {},
   "source": [
    "### Decision Trees"
   ]
  },
  {
   "cell_type": "code",
   "execution_count": 247,
   "metadata": {
    "collapsed": true
   },
   "outputs": [],
   "source": [
    "from sklearn.tree import DecisionTreeClassifier"
   ]
  },
  {
   "cell_type": "code",
   "execution_count": 248,
   "metadata": {
    "collapsed": true
   },
   "outputs": [],
   "source": [
    "dtree = DecisionTreeClassifier()"
   ]
  },
  {
   "cell_type": "code",
   "execution_count": 249,
   "metadata": {},
   "outputs": [
    {
     "data": {
      "text/plain": [
       "DecisionTreeClassifier(class_weight=None, criterion='gini', max_depth=None,\n",
       "            max_features=None, max_leaf_nodes=None,\n",
       "            min_impurity_decrease=0.0, min_impurity_split=None,\n",
       "            min_samples_leaf=1, min_samples_split=2,\n",
       "            min_weight_fraction_leaf=0.0, presort=False, random_state=None,\n",
       "            splitter='best')"
      ]
     },
     "execution_count": 249,
     "metadata": {},
     "output_type": "execute_result"
    }
   ],
   "source": [
    "dtree.fit(x_train_log,y_train_log)"
   ]
  },
  {
   "cell_type": "code",
   "execution_count": 250,
   "metadata": {
    "collapsed": true
   },
   "outputs": [],
   "source": [
    "predictions_dtree = dtree.predict(x_test_log)"
   ]
  },
  {
   "cell_type": "code",
   "execution_count": 251,
   "metadata": {},
   "outputs": [
    {
     "name": "stdout",
     "output_type": "stream",
     "text": [
      "             precision    recall  f1-score   support\n",
      "\n",
      "          0       0.66      0.64      0.65       133\n",
      "          1       0.77      0.78      0.77       201\n",
      "\n",
      "avg / total       0.72      0.72      0.72       334\n",
      "\n"
     ]
    }
   ],
   "source": [
    "print(classification_report(y_test_log, predictions_dtree))"
   ]
  },
  {
   "cell_type": "markdown",
   "metadata": {},
   "source": [
    "###### The presicion given by the decision tree classifier is much less compared to the logistic regression model."
   ]
  },
  {
   "cell_type": "markdown",
   "metadata": {},
   "source": [
    "### Random Forest"
   ]
  },
  {
   "cell_type": "markdown",
   "metadata": {},
   "source": [
    "The third binary classification technique will be Random Forest technique.\n",
    "Random Forest Technique is know to have better performance, as in having better accuracy when compared to the Decision Tree Technique"
   ]
  },
  {
   "cell_type": "code",
   "execution_count": 252,
   "metadata": {},
   "outputs": [
    {
     "data": {
      "text/plain": [
       "RandomForestClassifier(bootstrap=True, class_weight=None, criterion='gini',\n",
       "            max_depth=None, max_features='auto', max_leaf_nodes=None,\n",
       "            min_impurity_decrease=0.0, min_impurity_split=None,\n",
       "            min_samples_leaf=1, min_samples_split=2,\n",
       "            min_weight_fraction_leaf=0.0, n_estimators=100, n_jobs=1,\n",
       "            oob_score=False, random_state=None, verbose=0,\n",
       "            warm_start=False)"
      ]
     },
     "execution_count": 252,
     "metadata": {},
     "output_type": "execute_result"
    }
   ],
   "source": [
    "from sklearn.ensemble import RandomForestClassifier\n",
    "rfc = RandomForestClassifier(n_estimators=100)\n",
    "rfc.fit(x_train_log, y_train_log)"
   ]
  },
  {
   "cell_type": "code",
   "execution_count": 253,
   "metadata": {
    "collapsed": true
   },
   "outputs": [],
   "source": [
    "rfc_pred = rfc.predict(x_test_log)"
   ]
  },
  {
   "cell_type": "code",
   "execution_count": 254,
   "metadata": {},
   "outputs": [
    {
     "name": "stdout",
     "output_type": "stream",
     "text": [
      "             precision    recall  f1-score   support\n",
      "\n",
      "          0       0.83      0.72      0.77       133\n",
      "          1       0.83      0.90      0.86       201\n",
      "\n",
      "avg / total       0.83      0.83      0.83       334\n",
      "\n"
     ]
    }
   ],
   "source": [
    "print(classification_report(y_test_log,rfc_pred))"
   ]
  },
  {
   "cell_type": "markdown",
   "metadata": {
    "collapsed": true
   },
   "source": [
    "###### As expected the Random forest technique provided better presision in predicting the Gender values.\n",
    "###### The model however did not score above the logistic regression model(88% precision)"
   ]
  },
  {
   "cell_type": "markdown",
   "metadata": {},
   "source": [
    "### Support Vector Machines"
   ]
  },
  {
   "cell_type": "markdown",
   "metadata": {},
   "source": [
    "SVM allows to capture much compless realationships between data points without the need for much of transformation. "
   ]
  },
  {
   "cell_type": "code",
   "execution_count": 255,
   "metadata": {
    "collapsed": true
   },
   "outputs": [],
   "source": [
    "from sklearn.svm import SVC"
   ]
  },
  {
   "cell_type": "code",
   "execution_count": 256,
   "metadata": {
    "collapsed": true
   },
   "outputs": [],
   "source": [
    "svm_model = SVC()       "
   ]
  },
  {
   "cell_type": "code",
   "execution_count": 257,
   "metadata": {
    "collapsed": true
   },
   "outputs": [],
   "source": [
    "X_train_svm, X_test_svm, y_train_svm, y_test_svm = train_test_split( X, Y, test_size=0.33, random_state=100)"
   ]
  },
  {
   "cell_type": "code",
   "execution_count": 258,
   "metadata": {},
   "outputs": [
    {
     "data": {
      "text/plain": [
       "SVC(C=1.0, cache_size=200, class_weight=None, coef0=0.0,\n",
       "  decision_function_shape='ovr', degree=3, gamma='auto', kernel='rbf',\n",
       "  max_iter=-1, probability=False, random_state=None, shrinking=True,\n",
       "  tol=0.001, verbose=False)"
      ]
     },
     "execution_count": 258,
     "metadata": {},
     "output_type": "execute_result"
    }
   ],
   "source": [
    "svm_model.fit(X_train_svm, y_train_svm)"
   ]
  },
  {
   "cell_type": "code",
   "execution_count": 259,
   "metadata": {
    "collapsed": true
   },
   "outputs": [],
   "source": [
    "predict_svm = svm_model.predict(X_test_svm)"
   ]
  },
  {
   "cell_type": "code",
   "execution_count": 260,
   "metadata": {},
   "outputs": [
    {
     "name": "stdout",
     "output_type": "stream",
     "text": [
      "             precision    recall  f1-score   support\n",
      "\n",
      "          0       0.84      0.80      0.82       133\n",
      "          1       0.87      0.90      0.88       201\n",
      "\n",
      "avg / total       0.86      0.86      0.86       334\n",
      "\n"
     ]
    }
   ],
   "source": [
    "print(classification_report(y_test_svm, predict_svm))"
   ]
  },
  {
   "cell_type": "markdown",
   "metadata": {},
   "source": [
    "The presision achieved with SVM is 86%"
   ]
  },
  {
   "cell_type": "markdown",
   "metadata": {},
   "source": [
    "The higest precision was achieved using Logistic regression(88%) and SVM(86%)"
   ]
  },
  {
   "cell_type": "markdown",
   "metadata": {},
   "source": [
    "As seen earlier the movie preference column along with hobbies and interest provided highest correlation coefficients with Gender.A similar analysis can be performed using movie preference data"
   ]
  },
  {
   "cell_type": "code",
   "execution_count": 261,
   "metadata": {},
   "outputs": [
    {
     "name": "stdout",
     "output_type": "stream",
     "text": [
      "1010\n"
     ]
    }
   ],
   "source": [
    "#using movies interest\n",
    "X_movies = movies.dropna()\n",
    "print(len(X_movies))"
   ]
  },
  {
   "cell_type": "code",
   "execution_count": 262,
   "metadata": {
    "collapsed": true
   },
   "outputs": [],
   "source": [
    "x_train_movie, x_test_movie, y_train, y_test = train_test_split(X_movies, Y, test_size=.33, random_state=100)"
   ]
  },
  {
   "cell_type": "code",
   "execution_count": 263,
   "metadata": {
    "collapsed": true
   },
   "outputs": [],
   "source": [
    "logmodel_movies = LogisticRegression()"
   ]
  },
  {
   "cell_type": "code",
   "execution_count": 264,
   "metadata": {},
   "outputs": [
    {
     "data": {
      "text/plain": [
       "LogisticRegression(C=1.0, class_weight=None, dual=False, fit_intercept=True,\n",
       "          intercept_scaling=1, max_iter=100, multi_class='ovr', n_jobs=1,\n",
       "          penalty='l2', random_state=None, solver='liblinear', tol=0.0001,\n",
       "          verbose=0, warm_start=False)"
      ]
     },
     "execution_count": 264,
     "metadata": {},
     "output_type": "execute_result"
    }
   ],
   "source": [
    "logmodel_movies.fit(x_train_movie, y_train)"
   ]
  },
  {
   "cell_type": "code",
   "execution_count": 265,
   "metadata": {
    "collapsed": true
   },
   "outputs": [],
   "source": [
    "predict_movies = logmodel_movies.predict(x_test_movie)"
   ]
  },
  {
   "cell_type": "code",
   "execution_count": 266,
   "metadata": {},
   "outputs": [
    {
     "name": "stdout",
     "output_type": "stream",
     "text": [
      "             precision    recall  f1-score   support\n",
      "\n",
      "          0       0.78      0.72      0.75       133\n",
      "          1       0.82      0.87      0.84       201\n",
      "\n",
      "avg / total       0.81      0.81      0.81       334\n",
      "\n"
     ]
    }
   ],
   "source": [
    "print(classification_report(y_test, predict_movies))"
   ]
  },
  {
   "cell_type": "code",
   "execution_count": 267,
   "metadata": {},
   "outputs": [
    {
     "data": {
      "text/html": [
       "<div>\n",
       "<style>\n",
       "    .dataframe thead tr:only-child th {\n",
       "        text-align: right;\n",
       "    }\n",
       "\n",
       "    .dataframe thead th {\n",
       "        text-align: left;\n",
       "    }\n",
       "\n",
       "    .dataframe tbody tr th {\n",
       "        vertical-align: top;\n",
       "    }\n",
       "</style>\n",
       "<table border=\"1\" class=\"dataframe\">\n",
       "  <thead>\n",
       "    <tr style=\"text-align: right;\">\n",
       "      <th></th>\n",
       "      <th>Coeff</th>\n",
       "      <th>Features</th>\n",
       "    </tr>\n",
       "  </thead>\n",
       "  <tbody>\n",
       "    <tr>\n",
       "      <th>11</th>\n",
       "      <td>-0.631999</td>\n",
       "      <td>Action</td>\n",
       "    </tr>\n",
       "    <tr>\n",
       "      <th>6</th>\n",
       "      <td>-0.568461</td>\n",
       "      <td>War</td>\n",
       "    </tr>\n",
       "    <tr>\n",
       "      <th>3</th>\n",
       "      <td>-0.450332</td>\n",
       "      <td>Comedy</td>\n",
       "    </tr>\n",
       "    <tr>\n",
       "      <th>5</th>\n",
       "      <td>-0.340399</td>\n",
       "      <td>Sci-fi</td>\n",
       "    </tr>\n",
       "    <tr>\n",
       "      <th>10</th>\n",
       "      <td>-0.320051</td>\n",
       "      <td>Western</td>\n",
       "    </tr>\n",
       "  </tbody>\n",
       "</table>\n",
       "</div>"
      ],
      "text/plain": [
       "       Coeff Features\n",
       "11 -0.631999   Action\n",
       "6  -0.568461      War\n",
       "3  -0.450332   Comedy\n",
       "5  -0.340399   Sci-fi\n",
       "10 -0.320051  Western"
      ]
     },
     "execution_count": 267,
     "metadata": {},
     "output_type": "execute_result"
    }
   ],
   "source": [
    "logmodel_movies_coeff = pd.DataFrame({'Features': X_movies.columns,'Coeff': logmodel_movies.coef_[0]})\n",
    "logmodel_movies_coeff.sort_values('Coeff',inplace=True)\n",
    "logmodel_movies_coeff.head(5)"
   ]
  },
  {
   "cell_type": "code",
   "execution_count": 268,
   "metadata": {},
   "outputs": [
    {
     "data": {
      "text/plain": [
       "<matplotlib.axes._subplots.AxesSubplot at 0x1c23c590240>"
      ]
     },
     "execution_count": 268,
     "metadata": {},
     "output_type": "execute_result"
    },
    {
     "data": {
      "image/png": "[encoded data removed]",
      "text/plain": [
       "<matplotlib.figure.Figure at 0x1c23c3b1b00>"
      ]
     },
     "metadata": {},
     "output_type": "display_data"
    }
   ],
   "source": [
    "movies1 = data[[\"Gender\",\"Action\",\"War\",\"Comedy\", \"Sci-fi\", \"Western\"]].copy()\n",
    "fig, ax = plt.subplots(nrows = 1, ncols = 3,figsize=(15,5), sharex=True)\n",
    "sns.countplot(x=movies1[\"Action\"], hue=\"Gender\", data=movies1, ax=ax[0])\n",
    "sns.countplot(x=movies1[\"War\"], hue=\"Gender\", data=movies1, ax=ax[1])\n",
    "sns.countplot(x=movies1[\"Comedy\"], hue=\"Gender\", data=movies1, ax=ax[2])"
   ]
  },
  {
   "cell_type": "code",
   "execution_count": 269,
   "metadata": {},
   "outputs": [
    {
     "data": {
      "text/html": [
       "<div>\n",
       "<style>\n",
       "    .dataframe thead tr:only-child th {\n",
       "        text-align: right;\n",
       "    }\n",
       "\n",
       "    .dataframe thead th {\n",
       "        text-align: left;\n",
       "    }\n",
       "\n",
       "    .dataframe tbody tr th {\n",
       "        vertical-align: top;\n",
       "    }\n",
       "</style>\n",
       "<table border=\"1\" class=\"dataframe\">\n",
       "  <thead>\n",
       "    <tr style=\"text-align: right;\">\n",
       "      <th></th>\n",
       "      <th>Coeff</th>\n",
       "      <th>Features</th>\n",
       "    </tr>\n",
       "  </thead>\n",
       "  <tbody>\n",
       "    <tr>\n",
       "      <th>4</th>\n",
       "      <td>0.865529</td>\n",
       "      <td>Romantic</td>\n",
       "    </tr>\n",
       "    <tr>\n",
       "      <th>0</th>\n",
       "      <td>0.608810</td>\n",
       "      <td>Movies</td>\n",
       "    </tr>\n",
       "    <tr>\n",
       "      <th>7</th>\n",
       "      <td>0.400033</td>\n",
       "      <td>Fantasy/Fairy tales</td>\n",
       "    </tr>\n",
       "    <tr>\n",
       "      <th>8</th>\n",
       "      <td>0.146245</td>\n",
       "      <td>Animated</td>\n",
       "    </tr>\n",
       "    <tr>\n",
       "      <th>2</th>\n",
       "      <td>0.072095</td>\n",
       "      <td>Thriller</td>\n",
       "    </tr>\n",
       "  </tbody>\n",
       "</table>\n",
       "</div>"
      ],
      "text/plain": [
       "      Coeff             Features\n",
       "4  0.865529             Romantic\n",
       "0  0.608810               Movies\n",
       "7  0.400033  Fantasy/Fairy tales\n",
       "8  0.146245             Animated\n",
       "2  0.072095             Thriller"
      ]
     },
     "execution_count": 269,
     "metadata": {},
     "output_type": "execute_result"
    }
   ],
   "source": [
    "logmodel_movies_coeff.sort_values(by='Coeff',ascending=False).head(5)"
   ]
  },
  {
   "cell_type": "code",
   "execution_count": 270,
   "metadata": {
    "scrolled": true
   },
   "outputs": [
    {
     "data": {
      "text/plain": [
       "<matplotlib.axes._subplots.AxesSubplot at 0x1c23e381940>"
      ]
     },
     "execution_count": 270,
     "metadata": {},
     "output_type": "execute_result"
    },
    {
     "data": {
      "image/png": "[encoded data removed]",
      "text/plain": [
       "<matplotlib.figure.Figure at 0x1c23c2c3828>"
      ]
     },
     "metadata": {},
     "output_type": "display_data"
    }
   ],
   "source": [
    "movies2 = raw_data[[\"Gender\",\"Romantic\",\"Movies\",\"Fantasy/Fairy tales\"]].copy()\n",
    "fig, ax = plt.subplots(nrows = 1, ncols = 3,figsize=(15,5), sharex=True)\n",
    "sns.countplot(x=movies2[\"Romantic\"], hue=\"Gender\", data=movies2, ax=ax[0])\n",
    "sns.countplot(x=movies2[\"Movies\"], hue=\"Gender\", data=movies2, ax=ax[1])\n",
    "sns.countplot(x=movies2[\"Fantasy/Fairy tales\"], hue=\"Gender\", data=movies2, ax=ax[2])"
   ]
  },
  {
   "cell_type": "markdown",
   "metadata": {},
   "source": [
    "We were able to do Gender prediction on the basis of hobbies,interest and movies preferences with presision of 88% and 81% respectively."
   ]
  },
  {
   "cell_type": "markdown",
   "metadata": {},
   "source": [
    "## Artificial Neural Network"
   ]
  },
  {
   "cell_type": "markdown",
   "metadata": {},
   "source": [
    "Will be predicting gender on the basis of the combination of hobbites and movie preferences together.\n",
    "The prediction will be done using artificial neural network.\n",
    "\n",
    "###### We will import our estimator (the Multi-Layer Perceptron Classifier model) from the neural_network library of SciKit-Learn"
   ]
  },
  {
   "cell_type": "code",
   "execution_count": 271,
   "metadata": {
    "collapsed": true
   },
   "outputs": [],
   "source": [
    "x_ann = X.join([X_movies])      #joining datasets "
   ]
  },
  {
   "cell_type": "code",
   "execution_count": 272,
   "metadata": {
    "collapsed": true
   },
   "outputs": [],
   "source": [
    "y_ann = Y      # labels column will be same as before i.e Gender column from the dataset"
   ]
  },
  {
   "cell_type": "code",
   "execution_count": 273,
   "metadata": {
    "collapsed": true
   },
   "outputs": [],
   "source": [
    "x_train_ann, x_test_ann, y_train_ann, y_test_ann = train_test_split(x_ann, y_ann, test_size=0.20, random_state=100)"
   ]
  },
  {
   "cell_type": "code",
   "execution_count": 274,
   "metadata": {},
   "outputs": [
    {
     "data": {
      "text/plain": [
       "StandardScaler(copy=True, with_mean=True, with_std=True)"
      ]
     },
     "execution_count": 274,
     "metadata": {},
     "output_type": "execute_result"
    }
   ],
   "source": [
    "scaler_ann = StandardScaler()\n",
    "# Fit only to the training data\n",
    "scaler_ann.fit(x_train_ann)"
   ]
  },
  {
   "cell_type": "code",
   "execution_count": 275,
   "metadata": {
    "collapsed": true
   },
   "outputs": [],
   "source": [
    "# Now apply the transformations to the data:\n",
    "x_train_ann = scaler_ann.transform(x_train_ann)\n",
    "x_test_ann = scaler_ann.transform(x_test_ann)"
   ]
  },
  {
   "cell_type": "code",
   "execution_count": 276,
   "metadata": {
    "collapsed": true
   },
   "outputs": [],
   "source": [
    "from sklearn.neural_network import MLPClassifier"
   ]
  },
  {
   "cell_type": "code",
   "execution_count": 277,
   "metadata": {},
   "outputs": [
    {
     "name": "stdout",
     "output_type": "stream",
     "text": [
      "(1010, 44)\n"
     ]
    }
   ],
   "source": [
    "print(x_ann.shape)      ## Checking the total number of columns in the combined dataset"
   ]
  },
  {
   "cell_type": "markdown",
   "metadata": {},
   "source": [
    "The parameter to be passed for creating the instance of the estimator consist of a tuple. The tuple is populated with the number of neurons that each layer is to be made of. The number of entries in the tuple define the number of layers in the network"
   ]
  },
  {
   "cell_type": "markdown",
   "metadata": {},
   "source": [
    "Will build a 3 layer neural network with each layer made of the same number of columns as the input dataset(44)"
   ]
  },
  {
   "cell_type": "code",
   "execution_count": 278,
   "metadata": {
    "collapsed": true
   },
   "outputs": [],
   "source": [
    "ann = MLPClassifier(hidden_layer_sizes=(44,44,22,22))"
   ]
  },
  {
   "cell_type": "code",
   "execution_count": 279,
   "metadata": {},
   "outputs": [
    {
     "data": {
      "text/plain": [
       "MLPClassifier(activation='relu', alpha=0.0001, batch_size='auto', beta_1=0.9,\n",
       "       beta_2=0.999, early_stopping=False, epsilon=1e-08,\n",
       "       hidden_layer_sizes=(44, 44, 22, 22), learning_rate='constant',\n",
       "       learning_rate_init=0.001, max_iter=200, momentum=0.9,\n",
       "       nesterovs_momentum=True, power_t=0.5, random_state=None,\n",
       "       shuffle=True, solver='adam', tol=0.0001, validation_fraction=0.1,\n",
       "       verbose=False, warm_start=False)"
      ]
     },
     "execution_count": 279,
     "metadata": {},
     "output_type": "execute_result"
    }
   ],
   "source": [
    "#fit the training data \n",
    "ann.fit(x_train_ann,y_train_ann)"
   ]
  },
  {
   "cell_type": "code",
   "execution_count": 280,
   "metadata": {
    "collapsed": true
   },
   "outputs": [],
   "source": [
    "# make prediction\n",
    "predict_ann = ann.predict(x_test_ann)"
   ]
  },
  {
   "cell_type": "code",
   "execution_count": 281,
   "metadata": {},
   "outputs": [
    {
     "name": "stdout",
     "output_type": "stream",
     "text": [
      "             precision    recall  f1-score   support\n",
      "\n",
      "          0       0.78      0.90      0.84        77\n",
      "          1       0.93      0.85      0.89       125\n",
      "\n",
      "avg / total       0.87      0.87      0.87       202\n",
      "\n"
     ]
    }
   ],
   "source": [
    "print(classification_report(y_test_ann, predict_ann))"
   ]
  },
  {
   "cell_type": "markdown",
   "metadata": {},
   "source": [
    "- The presicion achieved with the total model is 87%.\n",
    "- The network is better at predicting females(1) with a precision of 94% "
   ]
  },
  {
   "cell_type": "markdown",
   "metadata": {},
   "source": [
    "### Conclusion\n",
    "For the specific dataset taken and corresponding calculation, following observations were made\n",
    "- High multicollinearity between related columns \n",
    "- Most correlation exist between Gender and other columns \n",
    "- The correlation values were highest among hobbies columns and movie preferences column\n",
    "- These columns were further used for predicting gender.\n",
    "- The Gender prediction was first done using hobbies and interest columns\n",
    "- The techniques used for the prediction were\n",
    "    - Logistic Regression\n",
    "    - Decision Trees\n",
    "    - Random Forest\n",
    "    - Support Vector Machine(SVM)\n",
    "- The highest presision was achieved was with Logistic Regression (88%) followed with SVM(86%)\n",
    "- Gender prediction was then done on the basis of movie preferences using logistic regression(81%)\n",
    "- The columns of hobbies and movie preferences were combined for predicting Gender.\n",
    "- Artificial Neural Network was used for the same\n",
    "- 4 layer neural network was constructed using MLPClassifier librabry of scikit learn. First two layers consisted of 44 neurons   same as the number of columns as the predictors. The next two layers consist of half the number of neurons.\n",
    "- The presion achieved with the neural network in predicion was 87%"
   ]
  }
 ],
 "metadata": {
  "kernelspec": {
   "display_name": "Python 3",
   "language": "python",
   "name": "python3"
  },
  "language_info": {
   "codemirror_mode": {
    "name": "ipython",
    "version": 3
   },
   "file_extension": ".py",
   "mimetype": "text/x-python",
   "name": "python",
   "nbconvert_exporter": "python",
   "pygments_lexer": "ipython3",
   "version": "3.6.3"
  }
 },
 "nbformat": 4,
 "nbformat_minor": 2
}
